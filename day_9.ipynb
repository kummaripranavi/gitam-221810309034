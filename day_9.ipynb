{
  "nbformat": 4,
  "nbformat_minor": 0,
  "metadata": {
    "colab": {
      "name": "day 9",
      "version": "0.3.2",
      "provenance": [],
      "include_colab_link": true
    },
    "kernelspec": {
      "name": "python3",
      "display_name": "Python 3"
    }
  },
  "cells": [
    {
      "cell_type": "markdown",
      "metadata": {
        "id": "view-in-github",
        "colab_type": "text"
      },
      "source": [
        "<a href=\"https://colab.research.google.com/github/kummaripranavi/gitam-221810309034/blob/master/day_9.ipynb\" target=\"_parent\"><img src=\"https://colab.research.google.com/assets/colab-badge.svg\" alt=\"Open In Colab\"/></a>"
      ]
    },
    {
      "cell_type": "markdown",
      "metadata": {
        "id": "adXR9i1Ha4Gk",
        "colab_type": "text"
      },
      "source": [
        "### dictionaries\n",
        "- it works on the concept of set unique data\n",
        "- keys,values is the unique identifier for a value\n",
        "- each key is separated from its values with colon(:)\n",
        "- each key and value is separated by comma(,)\n",
        "- dictionaries enclosed with curly braces ({})"
      ]
    },
    {
      "cell_type": "code",
      "metadata": {
        "id": "789tvwVFa5kS",
        "colab_type": "code",
        "outputId": "94e63ed3-5433-4291-bc78-33a188f433a3",
        "colab": {
          "base_uri": "https://localhost:8080/",
          "height": 35
        }
      },
      "source": [
        "d1={\"name\":\"gitam\",\"emailid\":\"gitam@gmail.com\",\"address\":\"hyderbad\"}\n",
        "print(d1)"
      ],
      "execution_count": 0,
      "outputs": [
        {
          "output_type": "stream",
          "text": [
            "{'name': 'gitam', 'emailid': 'gitam@gmail.com', 'address': 'hyderbad'}\n"
          ],
          "name": "stdout"
        }
      ]
    },
    {
      "cell_type": "code",
      "metadata": {
        "id": "IzJLu_JIbUi_",
        "colab_type": "code",
        "outputId": "3ec375e4-31dd-4da7-9e43-f763290153bc",
        "colab": {
          "base_uri": "https://localhost:8080/",
          "height": 35
        }
      },
      "source": [
        "d1[\"name\"]\n"
      ],
      "execution_count": 0,
      "outputs": [
        {
          "output_type": "execute_result",
          "data": {
            "text/plain": [
              "'gitam'"
            ]
          },
          "metadata": {
            "tags": []
          },
          "execution_count": 3
        }
      ]
    },
    {
      "cell_type": "code",
      "metadata": {
        "id": "PjTUiA-_cVUy",
        "colab_type": "code",
        "outputId": "6eef254d-216f-4547-da41-9673df1c7820",
        "colab": {
          "base_uri": "https://localhost:8080/",
          "height": 35
        }
      },
      "source": [
        "d1['emailid']='gitam-python@gmail.com'\n",
        "d1['emailid']"
      ],
      "execution_count": 0,
      "outputs": [
        {
          "output_type": "execute_result",
          "data": {
            "text/plain": [
              "'gitam-python@gmail.com'"
            ]
          },
          "metadata": {
            "tags": []
          },
          "execution_count": 7
        }
      ]
    },
    {
      "cell_type": "code",
      "metadata": {
        "id": "JxXc50q8cdkD",
        "colab_type": "code",
        "outputId": "cb1f3f9f-7025-4f16-dc11-8c1065a5fd86",
        "colab": {
          "base_uri": "https://localhost:8080/",
          "height": 35
        }
      },
      "source": [
        "del d1['emailid']\n",
        "d1"
      ],
      "execution_count": 0,
      "outputs": [
        {
          "output_type": "execute_result",
          "data": {
            "text/plain": [
              "{'address': 'hyderbad', 'name': 'gitam'}"
            ]
          },
          "metadata": {
            "tags": []
          },
          "execution_count": 8
        }
      ]
    },
    {
      "cell_type": "code",
      "metadata": {
        "id": "1f2W6XzzdnYy",
        "colab_type": "code",
        "colab": {}
      },
      "source": [
        "d1.keys()\n",
        "dict_keys(['name','address'])\n",
        "d1.value()\n",
        "dict_values(['gitam','hyderbad'])\n",
        "d1.item()\n",
        "dict_items([('name','gitam'),('address','hyderbad')])"
      ],
      "execution_count": 0,
      "outputs": []
    },
    {
      "cell_type": "markdown",
      "metadata": {
        "id": "FwXDBBOSfl9h",
        "colab_type": "text"
      },
      "source": [
        "###tuples\n",
        "\n",
        "\n",
        "*   t1 parnthesis()li square brackets[]\n",
        "-difference between list and tuples\n",
        "-list are mutable-can be changed/modified\n",
        "-used to access modify,add, delet data\n",
        "-tuples are immutable -cant be changed\n",
        "-used to access data only"
      ]
    },
    {
      "cell_type": "code",
      "metadata": {
        "id": "RCKfLx_RgPIv",
        "colab_type": "code",
        "outputId": "9cff8218-92d2-4fee-d174-0736ed4c952a",
        "colab": {
          "base_uri": "https://localhost:8080/",
          "height": 35
        }
      },
      "source": [
        "t1=(1,2,3,4,5,6)\n",
        "t1\n",
        "type(t1)"
      ],
      "execution_count": 0,
      "outputs": [
        {
          "output_type": "execute_result",
          "data": {
            "text/plain": [
              "tuple"
            ]
          },
          "metadata": {
            "tags": []
          },
          "execution_count": 9
        }
      ]
    },
    {
      "cell_type": "markdown",
      "metadata": {
        "id": "TMNAPVmKhTgi",
        "colab_type": "text"
      },
      "source": [
        "###contact application\n",
        "\n",
        "\n",
        "*   add contact\n",
        "*   search the contact\n",
        "\n",
        "\n",
        "*   list all contact\n",
        "* -name1:phone1\n",
        "   -name2:phone2\n",
        "\n",
        "*   modify the contct\n",
        "*   remove contact\n",
        "\n",
        "*   import contact\n",
        "\n",
        "\n",
        "\n",
        "\n",
        "\n",
        "\n",
        "\n",
        "\n"
      ]
    },
    {
      "cell_type": "code",
      "metadata": {
        "id": "-_gzT8Wvh6qC",
        "colab_type": "code",
        "outputId": "aa713b96-e118-4bba-b460-db60b207afb8",
        "colab": {
          "base_uri": "https://localhost:8080/",
          "height": 69
        }
      },
      "source": [
        "#add contact\n",
        "contacts={}#creating a dict object\n",
        "def addcontact(name,phone):\n",
        "  if name not in contacts:\n",
        "    contacts[name]=phone\n",
        "    print(\"contact is details are added\")\n",
        "  else:\n",
        "    print(\"contact details are already exist\")\n",
        "  return\n",
        "addcontact('anji','9866363691')\n",
        "addcontact('kgn','9441473225')\n",
        "addcontact('anji','9866363691')"
      ],
      "execution_count": 0,
      "outputs": [
        {
          "output_type": "stream",
          "text": [
            "contact is details are added\n",
            "contact is details are added\n",
            "contact details are already exist\n"
          ],
          "name": "stdout"
        }
      ]
    },
    {
      "cell_type": "code",
      "metadata": {
        "id": "vhGXTy9zkLES",
        "colab_type": "code",
        "outputId": "43e121d1-7063-457e-a875-2188406c5522",
        "colab": {
          "base_uri": "https://localhost:8080/",
          "height": 69
        }
      },
      "source": [
        "#search for contact details\n",
        "def searchcontact(name):\n",
        "  if name in contacts:\n",
        "    print(name,\":\",contacts[name])\n",
        "  else:\n",
        "    print(\"%s doesnt exist\"%name)\n",
        "  return\n",
        "searchcontact('anji')\n",
        "searchcontact('kgn')\n",
        "searchcontact('naveen')\n",
        "\n",
        "\n"
      ],
      "execution_count": 0,
      "outputs": [
        {
          "output_type": "stream",
          "text": [
            "anji : 9866363691\n",
            "kgn : 9441473225\n",
            "naveen doesnt exist\n"
          ],
          "name": "stdout"
        }
      ]
    },
    {
      "cell_type": "code",
      "metadata": {
        "id": "wM4Cy5LPmy1S",
        "colab_type": "code",
        "outputId": "64f41490-8d4c-4a68-f83d-5293574ac5a4",
        "colab": {
          "base_uri": "https://localhost:8080/",
          "height": 35
        }
      },
      "source": [
        "# import soem contacts\n",
        "# merge the contact with the existing one\n",
        "def importcontact(newcontacts):\n",
        "    contacts.update(newcontacts)\n",
        "    print(len(newcontacts.keys()),\"contacts added successfully\")\n",
        "    return\n",
        "newcontacts={'jay':7786543898,'sid':9987886998}\n",
        "importcontact(newcontacts)"
      ],
      "execution_count": 0,
      "outputs": [
        {
          "output_type": "stream",
          "text": [
            "2 contacts added successfully\n"
          ],
          "name": "stdout"
        }
      ]
    },
    {
      "cell_type": "code",
      "metadata": {
        "id": "Ixp73OHWo3yW",
        "colab_type": "code",
        "outputId": "f76ad620-dd57-4b29-9f56-e1787abb0061",
        "colab": {
          "base_uri": "https://localhost:8080/",
          "height": 35
        }
      },
      "source": [
        "#delet contact\n",
        "def deletecontact(name):\n",
        "  if name in contacts:\n",
        "    del contacts[name]\n",
        "    print(name,\"deleted successfully\")\n",
        "  else:\n",
        "    print(name,\"not exists\")\n",
        "  return\n",
        "deletecontact('ajay')"
      ],
      "execution_count": 0,
      "outputs": [
        {
          "output_type": "stream",
          "text": [
            "ajay not exists\n"
          ],
          "name": "stdout"
        }
      ]
    },
    {
      "cell_type": "code",
      "metadata": {
        "id": "XUyiVZP-qpdT",
        "colab_type": "code",
        "outputId": "9db290da-83bd-4c49-9070-2dced25f1ee7",
        "colab": {
          "base_uri": "https://localhost:8080/",
          "height": 52
        }
      },
      "source": [
        "#update the contact\n",
        "def deletecontact(name,phone):\n",
        "    if name in contacts:\n",
        "      contacts[name]=phone\n",
        "      print(name,\"updated successfully\")\n",
        "    else:\n",
        "      print(name,\"not exists\")\n",
        "    return\n",
        "deletecontact('anji',9866363691)\n",
        "deletecontact('ajay',9441473227)\n",
        "    "
      ],
      "execution_count": 0,
      "outputs": [
        {
          "output_type": "stream",
          "text": [
            "anji updated successfully\n",
            "ajay not exists\n"
          ],
          "name": "stdout"
        }
      ]
    },
    {
      "cell_type": "markdown",
      "metadata": {
        "id": "bFdeHlx9rVVG",
        "colab_type": "text"
      },
      "source": [
        "###pakages & modules\n",
        "**packages**\n",
        " -acollection of mmodules(single python fil.py)and subpacages\n",
        " modules\n",
        " -a single pythin file containing sat functions\n",
        " packeges- sub packeges modules functions-statements"
      ]
    },
    {
      "cell_type": "code",
      "metadata": {
        "id": "ETNcZmRXt8JV",
        "colab_type": "code",
        "outputId": "25ebfd8e-46c4-42ba-c0b1-ea8ed5e27151",
        "colab": {
          "base_uri": "https://localhost:8080/",
          "height": 35
        }
      },
      "source": [
        "#import external packages to python \n",
        "import math\n",
        "math.floor(123.45)"
      ],
      "execution_count": 0,
      "outputs": [
        {
          "output_type": "execute_result",
          "data": {
            "text/plain": [
              "123"
            ]
          },
          "metadata": {
            "tags": []
          },
          "execution_count": 1
        }
      ]
    },
    {
      "cell_type": "code",
      "metadata": {
        "id": "1Eir1VkZt93W",
        "colab_type": "code",
        "outputId": "7d2cac89-b1c7-49ec-9f19-50355239d754",
        "colab": {
          "base_uri": "https://localhost:8080/",
          "height": 35
        }
      },
      "source": [
        "from math import factorial as fact\n",
        "fact(5)"
      ],
      "execution_count": 0,
      "outputs": [
        {
          "output_type": "execute_result",
          "data": {
            "text/plain": [
              "120"
            ]
          },
          "metadata": {
            "tags": []
          },
          "execution_count": 2
        }
      ]
    },
    {
      "cell_type": "code",
      "metadata": {
        "id": "XMHb3P6JuerB",
        "colab_type": "code",
        "outputId": "50c5adb6-79ba-44c9-b9d3-a91fa3d4df7e",
        "colab": {
          "base_uri": "https://localhost:8080/",
          "height": 35
        }
      },
      "source": [
        " from math import gcd as gcd\n",
        " gcd(10,150)"
      ],
      "execution_count": 0,
      "outputs": [
        {
          "output_type": "execute_result",
          "data": {
            "text/plain": [
              "10"
            ]
          },
          "metadata": {
            "tags": []
          },
          "execution_count": 4
        }
      ]
    },
    {
      "cell_type": "code",
      "metadata": {
        "id": "O3om7RGevhCo",
        "colab_type": "code",
        "outputId": "495d414c-f286-4690-ddc8-fa63fa855214",
        "colab": {
          "base_uri": "https://localhost:8080/",
          "height": 35
        }
      },
      "source": [
        "#function to generate n random number \n",
        "import random\n",
        "def randomnumber(n,lb,ub):\n",
        "    for i in range(0,n):\n",
        "      print(random.randint(lb,ub),end=\" \")\n",
        "    return\n",
        "randomnumber(10,0,100)"
      ],
      "execution_count": 0,
      "outputs": [
        {
          "output_type": "stream",
          "text": [
            "32 90 66 90 87 89 36 98 58 71 "
          ],
          "name": "stdout"
        }
      ]
    },
    {
      "cell_type": "code",
      "metadata": {
        "id": "DpGcgc7xwivr",
        "colab_type": "code",
        "colab": {}
      },
      "source": [
        ""
      ],
      "execution_count": 0,
      "outputs": []
    }
  ]
}