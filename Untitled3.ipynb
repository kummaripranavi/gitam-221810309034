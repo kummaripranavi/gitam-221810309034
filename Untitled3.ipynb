{
  "nbformat": 4,
  "nbformat_minor": 0,
  "metadata": {
    "colab": {
      "name": "Untitled3.ipynb",
      "version": "0.3.2",
      "provenance": [],
      "include_colab_link": true
    },
    "kernelspec": {
      "name": "python3",
      "display_name": "Python 3"
    }
  },
  "cells": [
    {
      "cell_type": "markdown",
      "metadata": {
        "id": "view-in-github",
        "colab_type": "text"
      },
      "source": [
        "<a href=\"https://colab.research.google.com/github/kummaripranavi/gitam-221810309034/blob/master/Untitled3.ipynb\" target=\"_parent\"><img src=\"https://colab.research.google.com/assets/colab-badge.svg\" alt=\"Open In Colab\"/></a>"
      ]
    },
    {
      "cell_type": "code",
      "metadata": {
        "id": "J1NaMrlannw6",
        "colab_type": "code",
        "outputId": "0dfdf17e-c68d-4fc1-91d4-1a388b98197c",
        "colab": {
          "base_uri": "https://localhost:8080/",
          "height": 34
        }
      },
      "source": [
        "lst=[1,4,5,6,9]\n",
        "for i in lst:\n",
        "    if i%2==0:\n",
        "        print(i, end=\"\")\n",
        "lst2=[]\n",
        "lst=[1,2,3,4,5]\n",
        "for i in lst:\n",
        "    if i%2==0:\n",
        "        lst2.append(i**2)\n",
        "    else:\n",
        "        lst2.append(i)\n",
        "print (lst2)\n",
        "\n"
      ],
      "execution_count": 0,
      "outputs": [
        {
          "output_type": "stream",
          "text": [
            "46[1, 4, 3, 16, 5]\n"
          ],
          "name": "stdout"
        }
      ]
    },
    {
      "cell_type": "code",
      "metadata": {
        "id": "oX5MvqgXnuLU",
        "colab_type": "code",
        "outputId": "6c5dce78-0fde-4aae-e690-fae5d2190ff1",
        "colab": {
          "base_uri": "https://localhost:8080/",
          "height": 34
        }
      },
      "source": [
        "#2\n",
        "lst=[1,4,5,6,9]\n",
        "for i in lst:\n",
        "    if i%2==0:\n",
        "        print(i, end=\"\")"
      ],
      "execution_count": 0,
      "outputs": [
        {
          "output_type": "stream",
          "text": [
            "46"
          ],
          "name": "stdout"
        }
      ]
    },
    {
      "cell_type": "code",
      "metadata": {
        "id": "RbjEuzCdnu_p",
        "colab_type": "code",
        "outputId": "502539a3-dfbb-4488-81e1-d2136dd2dc89",
        "colab": {
          "base_uri": "https://localhost:8080/",
          "height": 34
        }
      },
      "source": [
        "#3\n",
        "lst2=[]\n",
        "lst=[1,2,3,4,5]\n",
        "for i in lst:\n",
        "    if i%2==0:\n",
        "        lst2.append(i**2)\n",
        "    else:\n",
        "        lst2.append(i)\n",
        "print (lst2)"
      ],
      "execution_count": 0,
      "outputs": [
        {
          "output_type": "stream",
          "text": [
            "[1, 4, 3, 16, 5]\n"
          ],
          "name": "stdout"
        }
      ]
    },
    {
      "cell_type": "code",
      "metadata": {
        "id": "Y_QzgWnKnx6r",
        "colab_type": "code",
        "outputId": "212be699-ace8-432d-9605-97851607956f",
        "colab": {
          "base_uri": "https://localhost:8080/",
          "height": 34
        }
      },
      "source": [
        "#4\n",
        "lst2=[]\n",
        "lst=[15,19,12,16,4]\n",
        "y=0\n",
        "for i in lst:\n",
        "    lst2.append(i+y)\n",
        "    y=i\n",
        "print(lst2)"
      ],
      "execution_count": 0,
      "outputs": [
        {
          "output_type": "stream",
          "text": [
            "[15, 34, 31, 28, 20]\n"
          ],
          "name": "stdout"
        }
      ]
    },
    {
      "cell_type": "code",
      "metadata": {
        "id": "hD3FrSMpn5Ej",
        "colab_type": "code",
        "colab": {}
      },
      "source": [
        ""
      ],
      "execution_count": 0,
      "outputs": []
    }
  ]
}