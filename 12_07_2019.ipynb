{
  "nbformat": 4,
  "nbformat_minor": 0,
  "metadata": {
    "colab": {
      "name": "12-07-2019.ipynb",
      "version": "0.3.2",
      "provenance": [],
      "include_colab_link": true
    },
    "language_info": {
      "codemirror_mode": {
        "name": "ipython",
        "version": 3
      },
      "file_extension": ".py",
      "mimetype": "text/x-python",
      "name": "python",
      "nbconvert_exporter": "python",
      "pygments_lexer": "ipython3",
      "version": "3.7.3"
    },
    "kernelspec": {
      "display_name": "Python 3",
      "language": "python",
      "name": "python3"
    }
  },
  "cells": [
    {
      "cell_type": "markdown",
      "metadata": {
        "id": "view-in-github",
        "colab_type": "text"
      },
      "source": [
        "<a href=\"https://colab.research.google.com/github/kummaripranavi/gitam-221810309034/blob/master/12_07_2019.ipynb\" target=\"_parent\"><img src=\"https://colab.research.google.com/assets/colab-badge.svg\" alt=\"Open In Colab\"/></a>"
      ]
    },
    {
      "cell_type": "markdown",
      "metadata": {
        "id": "ytvtnWBrMJlT",
        "colab_type": "text"
      },
      "source": [
        "### Regular expression\n",
        "- Pattern matching \n",
        "- Cap(^) symbol is used to represent the start of Regular Expression(re)\n",
        "- Dollar($) symbol used to represent the end of re\n",
        "- Patterns(re) package\n",
        "-[0=9] --> Any digit matching\n",
        "- Two digit number(^[0-9]{2}$)\n",
        "- Five digit number (^[0-9]{5}$)"
      ]
    },
    {
      "cell_type": "markdown",
      "metadata": {
        "id": "mSpfWJ2pMJlU",
        "colab_type": "text"
      },
      "source": [
        "### Regular expression for characters\n",
        "- [a-z] --> Any lower case characters\n",
        "- [A-Z] --> Any upper case characters\n",
        "- ^[a-z]{5}$ --> It accepts 5 lower case characters\n",
        "- ^[a-zA-Z]{8}$ --> It accepts 8 characters they can be either lower case or upper case\n",
        "- ^[a-zA-Z0-9]{8}$ --> It accepts 8 characters they can be either lower case or upper case or any numeric value or an alphanumeric value"
      ]
    },
    {
      "cell_type": "code",
      "metadata": {
        "id": "7atPq6p9MJlW",
        "colab_type": "code",
        "colab": {},
        "outputId": "f5435038-c892-494b-aa22-35455d7c52af"
      },
      "source": [
        "# Function to test 2-digit number matching\n",
        "import re\n",
        "def twodigitmatching(n):\n",
        "    pattern='^[0-9]{2}$'\n",
        "    n=str(n)\n",
        "    if re.match(pattern,n):\n",
        "        return True\n",
        "    return False\n",
        "print(twodigitmatching(12)) #True\n",
        "print(twodigitmatching(123)) #False"
      ],
      "execution_count": 0,
      "outputs": [
        {
          "output_type": "stream",
          "text": [
            "True\n",
            "False\n"
          ],
          "name": "stdout"
        }
      ]
    },
    {
      "cell_type": "code",
      "metadata": {
        "id": "XxDY2DIFMJld",
        "colab_type": "code",
        "colab": {},
        "outputId": "770299aa-0983-48bb-c5fe-230c495ad68c"
      },
      "source": [
        "#Function to define to test username having 8 characters\n",
        "# Upper case and lower\n",
        "def testUsername(s):\n",
        "    pattern='^[a-zA-Z]{8}$'\n",
        "    if re.match(pattern,s):\n",
        "        return True\n",
        "    return False\n",
        "print(testUsername('GitamHYD'))\n",
        "print(testUsername('Hitam188'))"
      ],
      "execution_count": 0,
      "outputs": [
        {
          "output_type": "stream",
          "text": [
            "True\n",
            "False\n"
          ],
          "name": "stdout"
        }
      ]
    },
    {
      "cell_type": "markdown",
      "metadata": {
        "id": "STA9ZaQPMJli",
        "colab_type": "text"
      },
      "source": [
        "### Regular Expression to match an Indian mobile number\n",
        "- 10 Digits\n",
        "- (First digit will be[6-9] and remaining 9 digits will be [0-9]\n",
        "- Example :- 9988776655\n",
        "-Re - ^[6-9][0-9]{9}$\n",
        "-Example :- 09988774455 {Re- ^[0][6-9][0-9]{9}$)\n",
        "- Example:- +919988774455\n",
        "- Re -^[+][9][1][6-9][0-9]{9}"
      ]
    },
    {
      "cell_type": "code",
      "metadata": {
        "id": "I1Lr_1SYMJlj",
        "colab_type": "code",
        "colab": {},
        "outputId": "9f670ce5-d7ff-4963-cdfd-d9a7016670f4"
      },
      "source": [
        "import re\n",
        "def tendigitindiannumber(n):\n",
        "    pattern = '^(0/91)?[6-9][0-9]{9}$'\n",
        "    n = str(n)\n",
        "    if re.match(pattern,n):\n",
        "        return True\n",
        "    return False\n",
        "print(tendigitindiannumber('6876543210'))  \n",
        "print(tendigitindiannumber('9876547210'))"
      ],
      "execution_count": 0,
      "outputs": [
        {
          "output_type": "stream",
          "text": [
            "True\n",
            "False\n"
          ],
          "name": "stdout"
        }
      ]
    },
    {
      "cell_type": "code",
      "metadata": {
        "id": "0IO1aXQrMJlo",
        "colab_type": "code",
        "colab": {},
        "outputId": "0d390cfd-1969-4aee-de1e-e3210053eee8"
      },
      "source": [
        "#Function to validate thr Indian mobile number\n",
        "def phonenumberValidation(phone):\n",
        "    pattern='^[6-9][0-9]{9}$|^[0][6-9][0-9]{9}$|^[+][9][1][6-9][0-9]{9}$'\n",
        "    phone=str(phone)\n",
        "    if re.match(pattern,phone):\n",
        "        return True\n",
        "    return False\n",
        "print(phonenumberValidation('+919988774455'))\n",
        "print(phonenumberValidation('+911988774455'))"
      ],
      "execution_count": 0,
      "outputs": [
        {
          "output_type": "stream",
          "text": [
            "True\n",
            "False\n"
          ],
          "name": "stdout"
        }
      ]
    },
    {
      "cell_type": "markdown",
      "metadata": {
        "id": "1KD0k_XNMJlr",
        "colab_type": "text"
      },
      "source": [
        "### Regular expression to validate a roll number\n",
        "- Example: 1521A0501\n",
        "- Example: 1521A0109\n",
        "- Example: 1521A0499\n",
        "\n",
        "### Regular expression to validate a password\n",
        "- Parameters : Lenth of password should be minimum 6 characters and maximum of 15 characters\n",
        "- Accept Lower case , Upper case , Digits and special characters(!,@,#,$,%,^,&,*,(,))"
      ]
    },
    {
      "cell_type": "code",
      "metadata": {
        "id": "E6EZ_c9AMJlr",
        "colab_type": "code",
        "colab": {},
        "outputId": "0702e089-f746-4c32-e497-2524f4cf5baf"
      },
      "source": [
        "#Function to validate a roll number\n",
        "def rollnumbervalidation(n):\n",
        "    pattern='^[1][5][2][1][A][0][0-5][0-9][0-9]$'\n",
        "    n=str(n)\n",
        "    if re.match(pattern,n):\n",
        "        return \"Valid Roll number\"\n",
        "    return \"Inavalid roll number\"\n",
        "print(rollnumbervalidation('1521A0499'))\n",
        "print(rollnumbervalidation('1521A0501'))\n",
        "print(rollnumbervalidation('1521B987'))"
      ],
      "execution_count": 0,
      "outputs": [
        {
          "output_type": "stream",
          "text": [
            "Valid Roll number\n",
            "Valid Roll number\n",
            "Inavalid roll number\n"
          ],
          "name": "stdout"
        }
      ]
    },
    {
      "cell_type": "code",
      "metadata": {
        "id": "02wrZeNcMJlr",
        "colab_type": "code",
        "colab": {},
        "outputId": "b4b4ea46-85f0-4143-e783-420b20b492e5"
      },
      "source": [
        "#Function to validate a password\n",
        "def passwordvalidation(pa):\n",
        "    pattern='^[a-zA-Z0-9!@#$%^&*()]{6,15}$'\n",
        "    pa=str(pa)\n",
        "    if re.match(pattern,pa):\n",
        "        return \"Valid Password\"\n",
        "    return \"Invalid Password\"\n",
        "print(passwordvalidation('T#@n0s$6'))\n",
        "print(passwordvalidation('?/<>hjnjFh'))"
      ],
      "execution_count": 0,
      "outputs": [
        {
          "output_type": "stream",
          "text": [
            "Valid Password\n",
            "Invalid Password\n"
          ],
          "name": "stdout"
        }
      ]
    },
    {
      "cell_type": "markdown",
      "metadata": {
        "id": "6JAhyOsVMJlr",
        "colab_type": "text"
      },
      "source": [
        "### Email Id validation using Regular expression\n",
        "- Example: username@domainname.extension\n",
        "- Username : \n",
        "            - Length will be [6-15]\n",
        "            - No special characters apart from underscore\n",
        "            - Should not begin and end with underscores(_)\n",
        "            - Characters Set: All digits and lower case\n",
        "- Extension :\n",
        "             - Length will be 2-4\n",
        "             - No special characters\n",
        "             - Character set: Lower case characters"
      ]
    },
    {
      "cell_type": "code",
      "metadata": {
        "id": "ERCorn6GMJlr",
        "colab_type": "code",
        "colab": {},
        "outputId": "290c3217-827d-4e16-b89f-7ba774f43fa4"
      },
      "source": [
        "def emailidvalidation(email):\n",
        "    pattern='^[0-9a-z][0-9a-z_.]{5,14}[@][a-z0-9]{3,28}[.][a-z]{2,4}$'\n",
        "    if re.match(pattern,email):\n",
        "        return \"Valid email ID\"\n",
        "    return \"Invalid email ID\"\n",
        "print(emailidvalidation('thanos6@gmail.com'))\n",
        "print(emailidvalidation('thanos_6@gmail.com'))\n",
        "print(emailidvalidation('_thanos_6@gmail.com'))\n",
        "print(emailidvalidation('thanos@6@gmail.com'))\n",
        "print(emailidvalidation('@thanos#6@gmail.com'))\n",
        "print(emailidvalidation('#than0$6@gmail.com'))"
      ],
      "execution_count": 0,
      "outputs": [
        {
          "output_type": "stream",
          "text": [
            "Valid email ID\n",
            "Valid email ID\n",
            "Invalid email ID\n",
            "Invalid email ID\n",
            "Invalid email ID\n",
            "Invalid email ID\n"
          ],
          "name": "stdout"
        }
      ]
    },
    {
      "cell_type": "markdown",
      "metadata": {
        "id": "Kld0px3fMJl7",
        "colab_type": "text"
      },
      "source": [
        "### Turtle\n",
        "- Step-1 : Make all the turtle packages\n",
        "           ->import turtle\n"
      ]
    },
    {
      "cell_type": "code",
      "metadata": {
        "id": "21oXE9MlMJl7",
        "colab_type": "code",
        "colab": {},
        "outputId": "ec6aaa42-1cf0-4543-8357-aba66064e216"
      },
      "source": [
        "import turtle as tt\n",
        "a1 = tt.Turtle()\n",
        "a1.backward(100)\n",
        "tt.done()"
      ],
      "execution_count": 0,
      "outputs": [
        {
          "output_type": "error",
          "ename": "Terminator",
          "evalue": "",
          "traceback": [
            "\u001b[1;31m---------------------------------------------------------------------------\u001b[0m",
            "\u001b[1;31mTerminator\u001b[0m                                Traceback (most recent call last)",
            "\u001b[1;32m<ipython-input-3-27f7e250be51>\u001b[0m in \u001b[0;36m<module>\u001b[1;34m\u001b[0m\n\u001b[0;32m      1\u001b[0m \u001b[1;32mimport\u001b[0m \u001b[0mturtle\u001b[0m \u001b[1;32mas\u001b[0m \u001b[0mtt\u001b[0m\u001b[1;33m\u001b[0m\u001b[1;33m\u001b[0m\u001b[0m\n\u001b[1;32m----> 2\u001b[1;33m \u001b[0ma1\u001b[0m \u001b[1;33m=\u001b[0m \u001b[0mtt\u001b[0m\u001b[1;33m.\u001b[0m\u001b[0mTurtle\u001b[0m\u001b[1;33m(\u001b[0m\u001b[1;33m)\u001b[0m\u001b[1;33m\u001b[0m\u001b[1;33m\u001b[0m\u001b[0m\n\u001b[0m\u001b[0;32m      3\u001b[0m \u001b[0ma1\u001b[0m\u001b[1;33m.\u001b[0m\u001b[0mbackward\u001b[0m\u001b[1;33m(\u001b[0m\u001b[1;36m100\u001b[0m\u001b[1;33m)\u001b[0m\u001b[1;33m\u001b[0m\u001b[1;33m\u001b[0m\u001b[0m\n\u001b[0;32m      4\u001b[0m \u001b[0mtt\u001b[0m\u001b[1;33m.\u001b[0m\u001b[0mdone\u001b[0m\u001b[1;33m(\u001b[0m\u001b[1;33m)\u001b[0m\u001b[1;33m\u001b[0m\u001b[1;33m\u001b[0m\u001b[0m\n",
            "\u001b[1;32m~\\Anaconda3\\lib\\turtle.py\u001b[0m in \u001b[0;36m__init__\u001b[1;34m(self, shape, undobuffersize, visible)\u001b[0m\n\u001b[0;32m   3814\u001b[0m                            \u001b[0mshape\u001b[0m\u001b[1;33m=\u001b[0m\u001b[0mshape\u001b[0m\u001b[1;33m,\u001b[0m\u001b[1;33m\u001b[0m\u001b[1;33m\u001b[0m\u001b[0m\n\u001b[0;32m   3815\u001b[0m                            \u001b[0mundobuffersize\u001b[0m\u001b[1;33m=\u001b[0m\u001b[0mundobuffersize\u001b[0m\u001b[1;33m,\u001b[0m\u001b[1;33m\u001b[0m\u001b[1;33m\u001b[0m\u001b[0m\n\u001b[1;32m-> 3816\u001b[1;33m                            visible=visible)\n\u001b[0m\u001b[0;32m   3817\u001b[0m \u001b[1;33m\u001b[0m\u001b[0m\n\u001b[0;32m   3818\u001b[0m \u001b[0mPen\u001b[0m \u001b[1;33m=\u001b[0m \u001b[0mTurtle\u001b[0m\u001b[1;33m\u001b[0m\u001b[1;33m\u001b[0m\u001b[0m\n",
            "\u001b[1;32m~\\Anaconda3\\lib\\turtle.py\u001b[0m in \u001b[0;36m__init__\u001b[1;34m(self, canvas, shape, undobuffersize, visible)\u001b[0m\n\u001b[0;32m   2555\u001b[0m         \u001b[0mself\u001b[0m\u001b[1;33m.\u001b[0m\u001b[0m_undobuffersize\u001b[0m \u001b[1;33m=\u001b[0m \u001b[0mundobuffersize\u001b[0m\u001b[1;33m\u001b[0m\u001b[1;33m\u001b[0m\u001b[0m\n\u001b[0;32m   2556\u001b[0m         \u001b[0mself\u001b[0m\u001b[1;33m.\u001b[0m\u001b[0mundobuffer\u001b[0m \u001b[1;33m=\u001b[0m \u001b[0mTbuffer\u001b[0m\u001b[1;33m(\u001b[0m\u001b[0mundobuffersize\u001b[0m\u001b[1;33m)\u001b[0m\u001b[1;33m\u001b[0m\u001b[1;33m\u001b[0m\u001b[0m\n\u001b[1;32m-> 2557\u001b[1;33m         \u001b[0mself\u001b[0m\u001b[1;33m.\u001b[0m\u001b[0m_update\u001b[0m\u001b[1;33m(\u001b[0m\u001b[1;33m)\u001b[0m\u001b[1;33m\u001b[0m\u001b[1;33m\u001b[0m\u001b[0m\n\u001b[0m\u001b[0;32m   2558\u001b[0m \u001b[1;33m\u001b[0m\u001b[0m\n\u001b[0;32m   2559\u001b[0m     \u001b[1;32mdef\u001b[0m \u001b[0mreset\u001b[0m\u001b[1;33m(\u001b[0m\u001b[0mself\u001b[0m\u001b[1;33m)\u001b[0m\u001b[1;33m:\u001b[0m\u001b[1;33m\u001b[0m\u001b[1;33m\u001b[0m\u001b[0m\n",
            "\u001b[1;32m~\\Anaconda3\\lib\\turtle.py\u001b[0m in \u001b[0;36m_update\u001b[1;34m(self)\u001b[0m\n\u001b[0;32m   2658\u001b[0m             \u001b[1;32mreturn\u001b[0m\u001b[1;33m\u001b[0m\u001b[1;33m\u001b[0m\u001b[0m\n\u001b[0;32m   2659\u001b[0m         \u001b[1;32melif\u001b[0m \u001b[0mscreen\u001b[0m\u001b[1;33m.\u001b[0m\u001b[0m_tracing\u001b[0m \u001b[1;33m==\u001b[0m \u001b[1;36m1\u001b[0m\u001b[1;33m:\u001b[0m\u001b[1;33m\u001b[0m\u001b[1;33m\u001b[0m\u001b[0m\n\u001b[1;32m-> 2660\u001b[1;33m             \u001b[0mself\u001b[0m\u001b[1;33m.\u001b[0m\u001b[0m_update_data\u001b[0m\u001b[1;33m(\u001b[0m\u001b[1;33m)\u001b[0m\u001b[1;33m\u001b[0m\u001b[1;33m\u001b[0m\u001b[0m\n\u001b[0m\u001b[0;32m   2661\u001b[0m             \u001b[0mself\u001b[0m\u001b[1;33m.\u001b[0m\u001b[0m_drawturtle\u001b[0m\u001b[1;33m(\u001b[0m\u001b[1;33m)\u001b[0m\u001b[1;33m\u001b[0m\u001b[1;33m\u001b[0m\u001b[0m\n\u001b[0;32m   2662\u001b[0m             \u001b[0mscreen\u001b[0m\u001b[1;33m.\u001b[0m\u001b[0m_update\u001b[0m\u001b[1;33m(\u001b[0m\u001b[1;33m)\u001b[0m                  \u001b[1;31m# TurtleScreenBase\u001b[0m\u001b[1;33m\u001b[0m\u001b[1;33m\u001b[0m\u001b[0m\n",
            "\u001b[1;32m~\\Anaconda3\\lib\\turtle.py\u001b[0m in \u001b[0;36m_update_data\u001b[1;34m(self)\u001b[0m\n\u001b[0;32m   2644\u001b[0m \u001b[1;33m\u001b[0m\u001b[0m\n\u001b[0;32m   2645\u001b[0m     \u001b[1;32mdef\u001b[0m \u001b[0m_update_data\u001b[0m\u001b[1;33m(\u001b[0m\u001b[0mself\u001b[0m\u001b[1;33m)\u001b[0m\u001b[1;33m:\u001b[0m\u001b[1;33m\u001b[0m\u001b[1;33m\u001b[0m\u001b[0m\n\u001b[1;32m-> 2646\u001b[1;33m         \u001b[0mself\u001b[0m\u001b[1;33m.\u001b[0m\u001b[0mscreen\u001b[0m\u001b[1;33m.\u001b[0m\u001b[0m_incrementudc\u001b[0m\u001b[1;33m(\u001b[0m\u001b[1;33m)\u001b[0m\u001b[1;33m\u001b[0m\u001b[1;33m\u001b[0m\u001b[0m\n\u001b[0m\u001b[0;32m   2647\u001b[0m         \u001b[1;32mif\u001b[0m \u001b[0mself\u001b[0m\u001b[1;33m.\u001b[0m\u001b[0mscreen\u001b[0m\u001b[1;33m.\u001b[0m\u001b[0m_updatecounter\u001b[0m \u001b[1;33m!=\u001b[0m \u001b[1;36m0\u001b[0m\u001b[1;33m:\u001b[0m\u001b[1;33m\u001b[0m\u001b[1;33m\u001b[0m\u001b[0m\n\u001b[0;32m   2648\u001b[0m             \u001b[1;32mreturn\u001b[0m\u001b[1;33m\u001b[0m\u001b[1;33m\u001b[0m\u001b[0m\n",
            "\u001b[1;32m~\\Anaconda3\\lib\\turtle.py\u001b[0m in \u001b[0;36m_incrementudc\u001b[1;34m(self)\u001b[0m\n\u001b[0;32m   1290\u001b[0m         \u001b[1;32mif\u001b[0m \u001b[1;32mnot\u001b[0m \u001b[0mTurtleScreen\u001b[0m\u001b[1;33m.\u001b[0m\u001b[0m_RUNNING\u001b[0m\u001b[1;33m:\u001b[0m\u001b[1;33m\u001b[0m\u001b[1;33m\u001b[0m\u001b[0m\n\u001b[0;32m   1291\u001b[0m             \u001b[0mTurtleScreen\u001b[0m\u001b[1;33m.\u001b[0m\u001b[0m_RUNNING\u001b[0m \u001b[1;33m=\u001b[0m \u001b[1;32mTrue\u001b[0m\u001b[1;33m\u001b[0m\u001b[1;33m\u001b[0m\u001b[0m\n\u001b[1;32m-> 1292\u001b[1;33m             \u001b[1;32mraise\u001b[0m \u001b[0mTerminator\u001b[0m\u001b[1;33m\u001b[0m\u001b[1;33m\u001b[0m\u001b[0m\n\u001b[0m\u001b[0;32m   1293\u001b[0m         \u001b[1;32mif\u001b[0m \u001b[0mself\u001b[0m\u001b[1;33m.\u001b[0m\u001b[0m_tracing\u001b[0m \u001b[1;33m>\u001b[0m \u001b[1;36m0\u001b[0m\u001b[1;33m:\u001b[0m\u001b[1;33m\u001b[0m\u001b[1;33m\u001b[0m\u001b[0m\n\u001b[0;32m   1294\u001b[0m             \u001b[0mself\u001b[0m\u001b[1;33m.\u001b[0m\u001b[0m_updatecounter\u001b[0m \u001b[1;33m+=\u001b[0m \u001b[1;36m1\u001b[0m\u001b[1;33m\u001b[0m\u001b[1;33m\u001b[0m\u001b[0m\n",
            "\u001b[1;31mTerminator\u001b[0m: "
          ]
        }
      ]
    },
    {
      "cell_type": "code",
      "metadata": {
        "id": "HptIdO11MJl7",
        "colab_type": "code",
        "colab": {}
      },
      "source": [
        "# Draw square\n",
        "import turtle as tt\n",
        "a1= tt.Turtle\n",
        "a1.forward(150)\n",
        "a1.right(90)\n",
        "a1.forward(150)\n",
        "a1.right(90)\n",
        "a1.forward(150)\n",
        "a1.right(90)\n",
        "a1.forward(150)\n",
        "a1.right(90)\n",
        "t1.done()"
      ],
      "execution_count": 0,
      "outputs": []
    },
    {
      "cell_type": "code",
      "metadata": {
        "id": "h6HzuvsVMJl7",
        "colab_type": "code",
        "colab": {}
      },
      "source": [
        "#Spiral square\n",
        "import turtle as t\n",
        "a1=t.Turtle()\n",
        "for i in range(250):\n",
        "    a1.forward(i)\n",
        "    a1.left(91)\n",
        "t.done()"
      ],
      "execution_count": 0,
      "outputs": []
    },
    {
      "cell_type": "code",
      "metadata": {
        "id": "EKtjJkW1MJl7",
        "colab_type": "code",
        "colab": {},
        "outputId": "5a9f709b-1202-4f47-e320-31247160b59c"
      },
      "source": [
        "from turtle import *\n",
        "colors = ['blue','green','yellow','orange','','cyan']\n",
        "for x in range(360):\n",
        "    pencolor(colors[x%6])\n",
        "    width(x/100+1)\n",
        "    forward(x)\n",
        "    left(59)"
      ],
      "execution_count": 0,
      "outputs": [
        {
          "output_type": "error",
          "ename": "Terminator",
          "evalue": "",
          "traceback": [
            "\u001b[1;31m---------------------------------------------------------------------------\u001b[0m",
            "\u001b[1;31mTerminator\u001b[0m                                Traceback (most recent call last)",
            "\u001b[1;32m<ipython-input-1-9d05debcc2ad>\u001b[0m in \u001b[0;36m<module>\u001b[1;34m\u001b[0m\n\u001b[0;32m      3\u001b[0m \u001b[1;32mfor\u001b[0m \u001b[0mx\u001b[0m \u001b[1;32min\u001b[0m \u001b[0mrange\u001b[0m\u001b[1;33m(\u001b[0m\u001b[1;36m360\u001b[0m\u001b[1;33m)\u001b[0m\u001b[1;33m:\u001b[0m\u001b[1;33m\u001b[0m\u001b[1;33m\u001b[0m\u001b[0m\n\u001b[0;32m      4\u001b[0m     \u001b[0mpencolor\u001b[0m\u001b[1;33m(\u001b[0m\u001b[0mcolors\u001b[0m\u001b[1;33m[\u001b[0m\u001b[0mx\u001b[0m\u001b[1;33m%\u001b[0m\u001b[1;36m6\u001b[0m\u001b[1;33m]\u001b[0m\u001b[1;33m)\u001b[0m\u001b[1;33m\u001b[0m\u001b[1;33m\u001b[0m\u001b[0m\n\u001b[1;32m----> 5\u001b[1;33m     \u001b[0mwidth\u001b[0m\u001b[1;33m(\u001b[0m\u001b[0mx\u001b[0m\u001b[1;33m/\u001b[0m\u001b[1;36m100\u001b[0m\u001b[1;33m+\u001b[0m\u001b[1;36m1\u001b[0m\u001b[1;33m)\u001b[0m\u001b[1;33m\u001b[0m\u001b[1;33m\u001b[0m\u001b[0m\n\u001b[0m\u001b[0;32m      6\u001b[0m     \u001b[0mforward\u001b[0m\u001b[1;33m(\u001b[0m\u001b[0mx\u001b[0m\u001b[1;33m)\u001b[0m\u001b[1;33m\u001b[0m\u001b[1;33m\u001b[0m\u001b[0m\n\u001b[0;32m      7\u001b[0m     \u001b[0mleft\u001b[0m\u001b[1;33m(\u001b[0m\u001b[1;36m59\u001b[0m\u001b[1;33m)\u001b[0m\u001b[1;33m\u001b[0m\u001b[1;33m\u001b[0m\u001b[0m\n",
            "\u001b[1;32m~\\Anaconda3\\lib\\turtle.py\u001b[0m in \u001b[0;36mwidth\u001b[1;34m(width)\u001b[0m\n",
            "\u001b[1;31mTerminator\u001b[0m: "
          ]
        }
      ]
    },
    {
      "cell_type": "code",
      "metadata": {
        "id": "NXuGz-RdMJmL",
        "colab_type": "code",
        "colab": {}
      },
      "source": [
        "#goto function \n",
        "from turtle import *\n",
        "goto(50,50)\n",
        "goto (-50,50)\n",
        "goto (100,-50)\n",
        "goto (-50,-50)"
      ],
      "execution_count": 0,
      "outputs": []
    },
    {
      "cell_type": "code",
      "metadata": {
        "id": "Vfg3TCQJMJmL",
        "colab_type": "code",
        "colab": {}
      },
      "source": [
        "from turtle import *\n",
        "colors = ['blue','green','yellow','orange','violet','red']\n",
        "for angle in range(0,360,15):\n",
        "    pencolor(colors[angle%6])\n",
        "    setheading(angle)\n",
        "    forward(100)\n",
        "    write(str(angle)+ 'o' )\n",
        "    backward(100)"
      ],
      "execution_count": 0,
      "outputs": []
    },
    {
      "cell_type": "code",
      "metadata": {
        "id": "EAjFQY_PMJmL",
        "colab_type": "code",
        "colab": {}
      },
      "source": [
        "from turtle import *\n",
        "pencolor('blue')\n",
        "for i in range(20):\n",
        "    forward(100)\n",
        "    left(90)\n",
        "    forward(10)\n",
        "    left(90)\n",
        "    forward(100)\n",
        "    right(90)\n",
        "    forward(10)\n",
        "    right(90)\n",
        "pencolor('green')\n",
        "for i in range(90):\n",
        "    undo()"
      ],
      "execution_count": 0,
      "outputs": []
    },
    {
      "cell_type": "code",
      "metadata": {
        "id": "KWMc_IMuMJmL",
        "colab_type": "code",
        "colab": {}
      },
      "source": [
        "from turtle import *\n"
      ],
      "execution_count": 0,
      "outputs": []
    }
  ]
}