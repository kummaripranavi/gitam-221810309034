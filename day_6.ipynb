{
  "nbformat": 4,
  "nbformat_minor": 0,
  "metadata": {
    "colab": {
      "name": "day 6",
      "version": "0.3.2",
      "provenance": [],
      "include_colab_link": true
    },
    "kernelspec": {
      "name": "python3",
      "display_name": "Python 3"
    }
  },
  "cells": [
    {
      "cell_type": "markdown",
      "metadata": {
        "id": "view-in-github",
        "colab_type": "text"
      },
      "source": [
        "<a href=\"https://colab.research.google.com/github/kummaripranavi/gitam-221810309034/blob/master/day_6.ipynb\" target=\"_parent\"><img src=\"https://colab.research.google.com/assets/colab-badge.svg\" alt=\"Open In Colab\"/></a>"
      ]
    },
    {
      "cell_type": "code",
      "metadata": {
        "id": "14mqrNi313T_",
        "colab_type": "code",
        "outputId": "6bf6a597-d94d-421a-b196-bb736ab2874f",
        "colab": {
          "base_uri": "https://localhost:8080/",
          "height": 50
        }
      },
      "source": [
        "#check if leap year or not\n",
        "year=int(input(\"enter\"))\n",
        "if year%400==0 or (year%100!=0 and year%4==0):\n",
        "  print(\"leap year\")\n",
        "else:\n",
        "  print(\"not a leap year\")"
      ],
      "execution_count": 0,
      "outputs": [
        {
          "output_type": "stream",
          "text": [
            "enter2015\n",
            "not a leap year\n"
          ],
          "name": "stdout"
        }
      ]
    },
    {
      "cell_type": "markdown",
      "metadata": {
        "id": "u0Dg7-Bk5ed9",
        "colab_type": "text"
      },
      "source": [
        "##iteration statements\n",
        "-while\n",
        "-for\n",
        "syntax\n",
        "            while boolean condition:\n",
        "            statements\n",
        "            increment /decrement"
      ]
    },
    {
      "cell_type": "code",
      "metadata": {
        "id": "D0wXeIQA5_CN",
        "colab_type": "code",
        "outputId": "d1b0ec05-d811-46c3-f046-481b958ac52b",
        "colab": {
          "base_uri": "https://localhost:8080/",
          "height": 101
        }
      },
      "source": [
        "#need to print gitam for 5 times\n",
        "print(\"gitam\")\n",
        "print(\"gitam\")\n",
        "print(\"gitam\")\n",
        "print(\"gitam\")\n",
        "print(\"gitam\")"
      ],
      "execution_count": 0,
      "outputs": [
        {
          "output_type": "stream",
          "text": [
            "gitam\n",
            "gitam\n",
            "gitam\n",
            "gitam\n",
            "gitam\n"
          ],
          "name": "stdout"
        }
      ]
    },
    {
      "cell_type": "code",
      "metadata": {
        "id": "9NRd7Piy6Nv4",
        "colab_type": "code",
        "outputId": "6b80a6e7-ca76-4437-d630-d9befddcae17",
        "colab": {
          "base_uri": "https://localhost:8080/",
          "height": 101
        }
      },
      "source": [
        "# need to print gitam\n",
        "x=0\n",
        "while x<5:\n",
        "  print(\"gitam\")\n",
        "  x=x+1"
      ],
      "execution_count": 0,
      "outputs": [
        {
          "output_type": "stream",
          "text": [
            "gitam\n",
            "gitam\n",
            "gitam\n",
            "gitam\n",
            "gitam\n"
          ],
          "name": "stdout"
        }
      ]
    },
    {
      "cell_type": "code",
      "metadata": {
        "id": "fI5RJmtM6iNA",
        "colab_type": "code",
        "outputId": "b811caa6-b989-4893-cebc-0196bd36e49e",
        "colab": {
          "base_uri": "https://localhost:8080/",
          "height": 286
        }
      },
      "source": [
        "#print N natural numbers using while loop\n",
        "x=int(input(\"enter number\"))\n",
        "i=1\n",
        "while i<=x:\n",
        " print(i)\n",
        " i=i+1"
      ],
      "execution_count": 0,
      "outputs": [
        {
          "output_type": "stream",
          "text": [
            "enter number15\n",
            "1\n",
            "2\n",
            "3\n",
            "4\n",
            "5\n",
            "6\n",
            "7\n",
            "8\n",
            "9\n",
            "10\n",
            "11\n",
            "12\n",
            "13\n",
            "14\n",
            "15\n"
          ],
          "name": "stdout"
        }
      ]
    },
    {
      "cell_type": "code",
      "metadata": {
        "id": "JGx6wtax8kQk",
        "colab_type": "code",
        "outputId": "7fa6e468-960b-41e2-b51e-6043c97e8787",
        "colab": {
          "base_uri": "https://localhost:8080/",
          "height": 212
        }
      },
      "source": [
        "#read a number --n\n",
        "#add only even 1to n\n",
        "#input --10\n",
        "#output--30(2+4+6+8+10)\n",
        "x=int(input(\"enter value\"))\n",
        "sum=0\n",
        "a=1\n",
        "while a<=x:\n",
        "  if a%2==0: \n",
        "    sum=sum+a\n",
        "  a=a+1\n",
        "  \n",
        "print(sum)\n"
      ],
      "execution_count": 0,
      "outputs": [
        {
          "output_type": "stream",
          "text": [
            "enter value10\n"
          ],
          "name": "stdout"
        },
        {
          "output_type": "error",
          "ename": "TypeError",
          "evalue": "ignored",
          "traceback": [
            "\u001b[0;31m---------------------------------------------------------------------------\u001b[0m",
            "\u001b[0;31mTypeError\u001b[0m                                 Traceback (most recent call last)",
            "\u001b[0;32m<ipython-input-79-eadeb85ee2a4>\u001b[0m in \u001b[0;36m<module>\u001b[0;34m()\u001b[0m\n\u001b[1;32m      7\u001b[0m   \u001b[0ma\u001b[0m\u001b[0;34m=\u001b[0m\u001b[0ma\u001b[0m\u001b[0;34m+\u001b[0m\u001b[0;36m1\u001b[0m\u001b[0;34m\u001b[0m\u001b[0;34m\u001b[0m\u001b[0m\n\u001b[1;32m      8\u001b[0m \u001b[0;34m\u001b[0m\u001b[0m\n\u001b[0;32m----> 9\u001b[0;31m \u001b[0mprint\u001b[0m\u001b[0;34m(\u001b[0m\u001b[0msum\u001b[0m\u001b[0;34m)\u001b[0m\u001b[0;34m\u001b[0m\u001b[0;34m\u001b[0m\u001b[0m\n\u001b[0m",
            "\u001b[0;31mTypeError\u001b[0m: 'int' object is not callable"
          ]
        }
      ]
    },
    {
      "cell_type": "code",
      "metadata": {
        "id": "KRXOUAWzBkhR",
        "colab_type": "code",
        "outputId": "fec5b334-3a63-4303-de1c-64f0a33ed84c",
        "colab": {
          "base_uri": "https://localhost:8080/",
          "height": 128
        }
      },
      "source": [
        "#number as a IP-123\n",
        "#print the digit of given number 3 2 1\n",
        "x=int(input(\"enter value\"))\n",
        "rev=0\n",
        "while x!=0:\n",
        "  rev=x%10\n",
        " \n",
        "  x=x//10\n",
        "print(rev)"
      ],
      "execution_count": 0,
      "outputs": [
        {
          "output_type": "error",
          "ename": "SyntaxError",
          "evalue": "ignored",
          "traceback": [
            "\u001b[0;36m  File \u001b[0;32m\"<ipython-input-43-05759fe0f260>\"\u001b[0;36m, line \u001b[0;32m2\u001b[0m\n\u001b[0;31m    int(rev)=0\u001b[0m\n\u001b[0m              ^\u001b[0m\n\u001b[0;31mSyntaxError\u001b[0m\u001b[0;31m:\u001b[0m can't assign to function call\n"
          ]
        }
      ]
    },
    {
      "cell_type": "code",
      "metadata": {
        "id": "y9kzwhz3IzyQ",
        "colab_type": "code",
        "colab": {}
      },
      "source": [
        "name=int(input(\"N:\"))\n",
        "while name>0:\n",
        "  ab=name%10\n",
        "  print(ab)\n",
        "  name=name//10"
      ],
      "execution_count": 0,
      "outputs": []
    },
    {
      "cell_type": "code",
      "metadata": {
        "id": "pNXETPgwSU8v",
        "colab_type": "code",
        "outputId": "ece5aea8-03db-425b-df6c-8ea940ff2260",
        "colab": {
          "base_uri": "https://localhost:8080/",
          "height": 50
        }
      },
      "source": [
        "n=int(input(\"enter a value\"))\n",
        "sum=0\n",
        "while n!=0:\n",
        "    r=n%10\n",
        "    n=n//10\n",
        "    sum=sum+r\n",
        "print(sum)"
      ],
      "execution_count": 0,
      "outputs": [
        {
          "output_type": "stream",
          "text": [
            "enter a value45\n",
            "9\n"
          ],
          "name": "stdout"
        }
      ]
    },
    {
      "cell_type": "code",
      "metadata": {
        "id": "80m2hQCWT_d-",
        "colab_type": "code",
        "outputId": "0c572a1d-e502-4f73-f69a-81f3e1d659f1",
        "colab": {
          "base_uri": "https://localhost:8080/",
          "height": 178
        }
      },
      "source": [
        "a=10\n",
        "print (a)"
      ],
      "execution_count": 0,
      "outputs": [
        {
          "output_type": "error",
          "ename": "TypeError",
          "evalue": "ignored",
          "traceback": [
            "\u001b[0;31m---------------------------------------------------------------------------\u001b[0m",
            "\u001b[0;31mTypeError\u001b[0m                                 Traceback (most recent call last)",
            "\u001b[0;32m<ipython-input-78-31c3768428c8>\u001b[0m in \u001b[0;36m<module>\u001b[0;34m()\u001b[0m\n\u001b[1;32m      1\u001b[0m \u001b[0ma\u001b[0m\u001b[0;34m=\u001b[0m\u001b[0;36m10\u001b[0m\u001b[0;34m\u001b[0m\u001b[0;34m\u001b[0m\u001b[0m\n\u001b[0;32m----> 2\u001b[0;31m \u001b[0mprint\u001b[0m \u001b[0;34m(\u001b[0m\u001b[0ma\u001b[0m\u001b[0;34m)\u001b[0m\u001b[0;34m\u001b[0m\u001b[0;34m\u001b[0m\u001b[0m\n\u001b[0m",
            "\u001b[0;31mTypeError\u001b[0m: 'int' object is not callable"
          ]
        }
      ]
    },
    {
      "cell_type": "code",
      "metadata": {
        "id": "48lQ2K7WDz5D",
        "colab_type": "code",
        "colab": {}
      },
      "source": [
        "#read a number\n",
        "OP 6(2+4)\n",
        "#DEF ADD EVEN DIGITS(N):\n",
        "#\n"
      ],
      "execution_count": 0,
      "outputs": []
    },
    {
      "cell_type": "code",
      "metadata": {
        "id": "BXOFkOL5SZt3",
        "colab_type": "code",
        "outputId": "3a2ec310-c596-489b-d024-d2ff46a8434e",
        "colab": {
          "base_uri": "https://localhost:8080/",
          "height": 34
        }
      },
      "source": [
        "#read a number 19528\n",
        "#print the large digit print number\n",
        "def printlarge(n):\n",
        "    large=0\n",
        "    while n!=0:\n",
        "      r=n%10\n",
        "      if large<r:\n",
        "        large=r\n",
        "      n=n//10\n",
        "    return large\n",
        "printlarge(19528)"
      ],
      "execution_count": 0,
      "outputs": [
        {
          "output_type": "execute_result",
          "data": {
            "text/plain": [
              "9"
            ]
          },
          "metadata": {
            "tags": []
          },
          "execution_count": 3
        }
      ]
    },
    {
      "cell_type": "code",
      "metadata": {
        "id": "2Das0G98XEwH",
        "colab_type": "code",
        "outputId": "e82c07cd-9894-4e26-809c-3947d594d303",
        "colab": {
          "base_uri": "https://localhost:8080/",
          "height": 34
        }
      },
      "source": [
        "#read a number as input\n",
        "#OP reverse of given number\n",
        "#123--321\n",
        "def reversenumber(n):\n",
        "    rev=0\n",
        "    while n!=0:\n",
        "      r=n%10\n",
        "      rev=rev*10+r\n",
        "      n=n//10\n",
        "    return rev\n",
        "reversenumber(123)"
      ],
      "execution_count": 0,
      "outputs": [
        {
          "output_type": "execute_result",
          "data": {
            "text/plain": [
              "321"
            ]
          },
          "metadata": {
            "tags": []
          },
          "execution_count": 5
        }
      ]
    },
    {
      "cell_type": "code",
      "metadata": {
        "id": "Jo_PaAppZpbq",
        "colab_type": "code",
        "outputId": "8fa52673-1fed-405e-edcf-0b6e747b8921",
        "colab": {
          "base_uri": "https://localhost:8080/",
          "height": 84
        }
      },
      "source": [
        "#number as a IP-123\n",
        "#print the digit of given number 3 2 1\n",
        "n=int(input(\"enter value\"))\n",
        "rev=0\n",
        "while n>0:\n",
        "    x=n%10\n",
        "    print(x)\n",
        "    #rev=rev*10+x\n",
        "    n=n//10\n",
        "#print(x,end=\" \")"
      ],
      "execution_count": 0,
      "outputs": [
        {
          "output_type": "stream",
          "text": [
            "enter value123\n",
            "3\n",
            "2\n",
            "1\n"
          ],
          "name": "stdout"
        }
      ]
    },
    {
      "cell_type": "code",
      "metadata": {
        "id": "w3IGjIYtZrav",
        "colab_type": "code",
        "outputId": "9d4c8c96-f964-4c79-c8e9-ac897913f35d",
        "colab": {
          "base_uri": "https://localhost:8080/",
          "height": 212
        }
      },
      "source": [
        "#given number \n",
        "#input\n",
        "#123  321  no\n",
        "#121  121  yes\n",
        "def ispalindrome():\n",
        "  rev=0\n",
        "  buffer=n\n",
        "  while n!=0:\n",
        "    r=n%10\n",
        "    rev=rev*10+r\n",
        "    n=n//10\n",
        "  if buffer ==rev:\n",
        "    return \"yes\"\n",
        "  else:\n",
        "    return \"no\"\n",
        "print(ispalindrome(123))\n",
        "print(ispalindrome(121))"
      ],
      "execution_count": 0,
      "outputs": [
        {
          "output_type": "error",
          "ename": "TypeError",
          "evalue": "ignored",
          "traceback": [
            "\u001b[0;31m---------------------------------------------------------------------------\u001b[0m",
            "\u001b[0;31mTypeError\u001b[0m                                 Traceback (most recent call last)",
            "\u001b[0;32m<ipython-input-7-58be93df9519>\u001b[0m in \u001b[0;36m<module>\u001b[0;34m()\u001b[0m\n\u001b[1;32m     10\u001b[0m   \u001b[0;32melse\u001b[0m\u001b[0;34m:\u001b[0m\u001b[0;34m\u001b[0m\u001b[0;34m\u001b[0m\u001b[0m\n\u001b[1;32m     11\u001b[0m     \u001b[0;32mreturn\u001b[0m \u001b[0;34m\"no\"\u001b[0m\u001b[0;34m\u001b[0m\u001b[0;34m\u001b[0m\u001b[0m\n\u001b[0;32m---> 12\u001b[0;31m \u001b[0mprint\u001b[0m\u001b[0;34m(\u001b[0m\u001b[0mispalindrome\u001b[0m\u001b[0;34m(\u001b[0m\u001b[0;36m123\u001b[0m\u001b[0;34m)\u001b[0m\u001b[0;34m)\u001b[0m\u001b[0;34m\u001b[0m\u001b[0;34m\u001b[0m\u001b[0m\n\u001b[0m\u001b[1;32m     13\u001b[0m \u001b[0mprint\u001b[0m\u001b[0;34m(\u001b[0m\u001b[0mispalindrome\u001b[0m\u001b[0;34m(\u001b[0m\u001b[0;36m121\u001b[0m\u001b[0;34m)\u001b[0m\u001b[0;34m)\u001b[0m\u001b[0;34m\u001b[0m\u001b[0;34m\u001b[0m\u001b[0m\n",
            "\u001b[0;31mTypeError\u001b[0m: ispalindrome() takes 0 positional arguments but 1 was given"
          ]
        }
      ]
    },
    {
      "cell_type": "code",
      "metadata": {
        "id": "nU1FX9xTc8fX",
        "colab_type": "code",
        "outputId": "5de4642f-183d-4bd4-c89e-0fadb82c4c18",
        "colab": {
          "base_uri": "https://localhost:8080/",
          "height": 50
        }
      },
      "source": [
        "# palindrome \n",
        "\n",
        "def palindrome(n):\n",
        "   r = 0\n",
        "   buffer = n\n",
        "   rem =0 \n",
        "   while n != 0:    \n",
        "       rem = n %10    \n",
        "       r = (r *10) + rem\n",
        "       n = n //10  \n",
        "   if buffer == r:\n",
        "       return \"yes\"\n",
        "   else:\n",
        "       return \"no\"\n",
        "print( palindrome(123) )\n",
        "print( palindrome(121) )"
      ],
      "execution_count": 0,
      "outputs": [
        {
          "output_type": "stream",
          "text": [
            "no\n",
            "yes\n"
          ],
          "name": "stdout"
        }
      ]
    },
    {
      "cell_type": "code",
      "metadata": {
        "id": "ifpG35KCdrIu",
        "colab_type": "code",
        "outputId": "8a99c525-8c08-4b5b-d7da-bb4fa2b67652",
        "colab": {
          "base_uri": "https://localhost:8080/",
          "height": 50
        }
      },
      "source": [
        "n=int(input(\"enter a value\"))\n",
        "sum=0\n",
        "while n!=0:\n",
        "    r=n%10\n",
        "    n=n//10\n",
        "    sum=sum+r\n",
        "print(sum)"
      ],
      "execution_count": 0,
      "outputs": [
        {
          "output_type": "stream",
          "text": [
            "enter a value45\n",
            "9\n"
          ],
          "name": "stdout"
        }
      ]
    },
    {
      "cell_type": "code",
      "metadata": {
        "id": "RLAbDP4bd_BO",
        "colab_type": "code",
        "outputId": "fbe63db1-40f9-425d-cb9c-e99f147c6fb6",
        "colab": {
          "base_uri": "https://localhost:8080/",
          "height": 34
        }
      },
      "source": [
        "#function to print n natural number with for loop\n",
        "def printnnaturalnumber(n):\n",
        "  for x in range(1,n+1):\n",
        "    print(x,end=\" \")  \n",
        "  return\n",
        "printnnaturalnumber(10)"
      ],
      "execution_count": 0,
      "outputs": [
        {
          "output_type": "stream",
          "text": [
            "1 2 3 4 5 6 7 8 9 10 "
          ],
          "name": "stdout"
        }
      ]
    },
    {
      "cell_type": "code",
      "metadata": {
        "id": "JXWgOxAffXWl",
        "colab_type": "code",
        "outputId": "7ecfa97c-9fcc-4f42-aacf-8c561e54e500",
        "colab": {
          "base_uri": "https://localhost:8080/",
          "height": 34
        }
      },
      "source": [
        "#function tpprint the numbers between two limits\n",
        "#IP 11,25\n",
        "#OP 11,12,13,,,,,25\n",
        "def printseries(ib,ub):\n",
        "  for x in range(ib,ub+1):\n",
        "    print(x,end=\" \")\n",
        "  return\n",
        "printseries(11,25)"
      ],
      "execution_count": 0,
      "outputs": [
        {
          "output_type": "stream",
          "text": [
            "11 12 13 14 15 16 17 18 19 20 21 22 23 24 25 "
          ],
          "name": "stdout"
        }
      ]
    },
    {
      "cell_type": "code",
      "metadata": {
        "id": "5nEYEjVtglzq",
        "colab_type": "code",
        "outputId": "cdcd36db-72f9-4a8e-d5a4-67bf93abc356",
        "colab": {
          "base_uri": "https://localhost:8080/",
          "height": 34
        }
      },
      "source": [
        "#function to print alternate number\n",
        "#500,520\n",
        "#100,150\n",
        "def alternativenumber(ib,ub):\n",
        "  for x in range(ib,ub+1,5):\n",
        "    print(x,end=\" \")\n",
        "  return \n",
        "alternativenumber(100,150)"
      ],
      "execution_count": 0,
      "outputs": [
        {
          "output_type": "stream",
          "text": [
            "100 105 110 115 120 125 130 135 140 145 150 "
          ],
          "name": "stdout"
        }
      ]
    },
    {
      "cell_type": "code",
      "metadata": {
        "id": "wLmU-4WyiiCv",
        "colab_type": "code",
        "outputId": "bdd8f214-3d57-4271-ed8e-2b335574f400",
        "colab": {
          "base_uri": "https://localhost:8080/",
          "height": 34
        }
      },
      "source": [
        "#function to print the series in reverse\n",
        "#IP 1,10\n",
        "#OP 10,9,8,7,6,,,\n",
        "def reverserangenumber(start,end):\n",
        "    for x in range(end,start-1,-1):\n",
        "      print(x,end=\" \")\n",
        "    return\n",
        "reverserangenumber(1,10)"
      ],
      "execution_count": 0,
      "outputs": [
        {
          "output_type": "stream",
          "text": [
            "10 9 8 7 6 5 4 3 2 1 "
          ],
          "name": "stdout"
        }
      ]
    },
    {
      "cell_type": "code",
      "metadata": {
        "id": "4HudgEbEkhRX",
        "colab_type": "code",
        "colab": {}
      },
      "source": [
        ""
      ],
      "execution_count": 0,
      "outputs": []
    }
  ]
}