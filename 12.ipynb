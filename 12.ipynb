{
  "nbformat": 4,
  "nbformat_minor": 0,
  "metadata": {
    "colab": {
      "name": "12",
      "version": "0.3.2",
      "provenance": [],
      "collapsed_sections": [],
      "include_colab_link": true
    },
    "kernelspec": {
      "name": "python3",
      "display_name": "Python 3"
    }
  },
  "cells": [
    {
      "cell_type": "markdown",
      "metadata": {
        "id": "view-in-github",
        "colab_type": "text"
      },
      "source": [
        "<a href=\"https://colab.research.google.com/github/kummaripranavi/gitam-221810309034/blob/master/12.ipynb\" target=\"_parent\"><img src=\"https://colab.research.google.com/assets/colab-badge.svg\" alt=\"Open In Colab\"/></a>"
      ]
    },
    {
      "cell_type": "code",
      "metadata": {
        "id": "dH6Y4IPJp7ib",
        "colab_type": "code",
        "colab": {}
      },
      "source": [
        ""
      ],
      "execution_count": 0,
      "outputs": []
    },
    {
      "cell_type": "markdown",
      "metadata": {
        "id": "_kbEiGNapuTx",
        "colab_type": "text"
      },
      "source": [
        "# Write a python programming to print the large digit from given number"
      ]
    },
    {
      "cell_type": "code",
      "metadata": {
        "id": "dP-yGiRqqBmx",
        "colab_type": "code",
        "colab": {
          "base_uri": "https://localhost:8080/",
          "height": 68
        },
        "outputId": "f26743e2-a26f-4623-a675-e4f0f1bf905c"
      },
      "source": [
        "n = int(input(\"Enter a Number :\"))\n",
        "\n",
        "ld = 0\n",
        "while n > 0:\n",
        "   r = n % 10\n",
        "   if ld < r:\n",
        "       ld = r\n",
        "   n = int(n / 10)\n",
        "\n",
        "print(\"\\nLargest digit is :\", ld)"
      ],
      "execution_count": 1,
      "outputs": [
        {
          "output_type": "stream",
          "text": [
            "Enter a Number :45\n",
            "\n",
            "Largest digit is : 5\n"
          ],
          "name": "stdout"
        }
      ]
    },
    {
      "cell_type": "code",
      "metadata": {
        "id": "u8ewvDNGqDgi",
        "colab_type": "code",
        "colab": {}
      },
      "source": [
        "45\n"
      ],
      "execution_count": 0,
      "outputs": []
    },
    {
      "cell_type": "markdown",
      "metadata": {
        "id": "PXdvXHR3qzmX",
        "colab_type": "text"
      },
      "source": [
        "https://github.com/kummaripranavi/gitam-221810309034/blob/master/ASSIGN.rap"
      ]
    },
    {
      "cell_type": "code",
      "metadata": {
        "id": "U0IW6_nDq00s",
        "colab_type": "code",
        "colab": {}
      },
      "source": [
        ""
      ],
      "execution_count": 0,
      "outputs": []
    }
  ]
}