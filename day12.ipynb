{
  "nbformat": 4,
  "nbformat_minor": 0,
  "metadata": {
    "colab": {
      "name": "day12",
      "version": "0.3.2",
      "provenance": [],
      "include_colab_link": true
    },
    "kernelspec": {
      "name": "python3",
      "display_name": "Python 3"
    }
  },
  "cells": [
    {
      "cell_type": "markdown",
      "metadata": {
        "id": "view-in-github",
        "colab_type": "text"
      },
      "source": [
        "<a href=\"https://colab.research.google.com/github/kummaripranavi/gitam-221810309034/blob/master/day12.ipynb\" target=\"_parent\"><img src=\"https://colab.research.google.com/assets/colab-badge.svg\" alt=\"Open In Colab\"/></a>"
      ]
    },
    {
      "cell_type": "markdown",
      "metadata": {
        "id": "StB-Wlx66Lii",
        "colab_type": "text"
      },
      "source": [
        "LOOPING OVER ACOLLECTION"
      ]
    },
    {
      "cell_type": "code",
      "metadata": {
        "id": "sHwgzx2W6QI4",
        "colab_type": "code",
        "colab": {
          "base_uri": "https://localhost:8080/",
          "height": 35
        },
        "outputId": "073ae4b0-ffdf-4580-c50a-4e52783b2d92"
      },
      "source": [
        "colors=['red','green','yellow','purple']\n",
        "for i in range(len(colors)):\n",
        "    print(colors[i],end=\" \")"
      ],
      "execution_count": 2,
      "outputs": [
        {
          "output_type": "stream",
          "text": [
            "red green yellow purple "
          ],
          "name": "stdout"
        }
      ]
    },
    {
      "cell_type": "markdown",
      "metadata": {
        "id": "KXiFtWEc7TRY",
        "colab_type": "text"
      },
      "source": [
        "looping backwards"
      ]
    },
    {
      "cell_type": "code",
      "metadata": {
        "id": "PIepwjfg6zq4",
        "colab_type": "code",
        "colab": {
          "base_uri": "https://localhost:8080/",
          "height": 35
        },
        "outputId": "9e1009e6-fc6d-4ab5-f0a7-c4214ee46eee"
      },
      "source": [
        "for color in reversed(colors):\n",
        "    print(color,end=\" \")"
      ],
      "execution_count": 3,
      "outputs": [
        {
          "output_type": "stream",
          "text": [
            "purple yellow green red "
          ],
          "name": "stdout"
        }
      ]
    },
    {
      "cell_type": "code",
      "metadata": {
        "id": "P_H5ShIg7FEo",
        "colab_type": "code",
        "colab": {
          "base_uri": "https://localhost:8080/",
          "height": 35
        },
        "outputId": "b7339550-42d3-452a-a83f-9d02b3f0090f"
      },
      "source": [
        "colors=['red','green','yellow','purple']\n",
        "for i in range(len(colors)-1,-1,-1):\n",
        "    print(colors[i],end=\" \")"
      ],
      "execution_count": 4,
      "outputs": [
        {
          "output_type": "stream",
          "text": [
            "purple yellow green red "
          ],
          "name": "stdout"
        }
      ]
    },
    {
      "cell_type": "code",
      "metadata": {
        "id": "rlOIHCzr7Qsc",
        "colab_type": "code",
        "colab": {
          "base_uri": "https://localhost:8080/",
          "height": 55
        },
        "outputId": "59c22d3b-c972-4892-8602-33afb8c61442"
      },
      "source": [
        "colors=['red','green','yellow','purple']\n",
        "for color in sorted(colors):\n",
        "    print(colors,end=\" \")"
      ],
      "execution_count": 6,
      "outputs": [
        {
          "output_type": "stream",
          "text": [
            "['red', 'green', 'yellow', 'purple'] ['red', 'green', 'yellow', 'purple'] ['red', 'green', 'yellow', 'purple'] ['red', 'green', 'yellow', 'purple'] "
          ],
          "name": "stdout"
        }
      ]
    },
    {
      "cell_type": "code",
      "metadata": {
        "id": "4q-pvW_T9k18",
        "colab_type": "code",
        "colab": {
          "base_uri": "https://localhost:8080/",
          "height": 35
        },
        "outputId": "92e9df37-963e-4d59-dd2c-28e99481bf01"
      },
      "source": [
        "colors=['red','green','yellow','purple']\n",
        "for color in sorted(colors,reverse=True):\n",
        "    print(color,end=\" \")"
      ],
      "execution_count": 9,
      "outputs": [
        {
          "output_type": "stream",
          "text": [
            "yellow red purple green "
          ],
          "name": "stdout"
        }
      ]
    },
    {
      "cell_type": "markdown",
      "metadata": {
        "id": "oMCSjXYo-zm4",
        "colab_type": "text"
      },
      "source": [
        "###if x<=y and y<=z:\n",
        "-if x<=y<=z:\n",
        "-if x==true:\n",
        "if x:\n"
      ]
    },
    {
      "cell_type": "markdown",
      "metadata": {
        "id": "BvAzSHnf-_lw",
        "colab_type": "text"
      },
      "source": [
        "**Pandas**\n"
      ]
    },
    {
      "cell_type": "code",
      "metadata": {
        "id": "p19GX9gn_FYT",
        "colab_type": "code",
        "colab": {}
      },
      "source": [
        "import pandas as pd\n",
        "dt={'Id':[11,12,13,14,15],\n",
        "    'first_name':['A','B','C','D','E'],\n",
        "    'company':['aa','bb','cc','dd','ee'],\n",
        "    'address':['Hyd','Hyd','Hyd','Hyd','Hyd']}\n",
        "mydt=pd.DataFrame(dt)"
      ],
      "execution_count": 0,
      "outputs": []
    },
    {
      "cell_type": "code",
      "metadata": {
        "id": "zVLA5jnjAj6s",
        "colab_type": "code",
        "colab": {
          "base_uri": "https://localhost:8080/",
          "height": 121
        },
        "outputId": "b7ab40cb-4432-4362-96fb-b137d281a5a4"
      },
      "source": [
        "print(mydt)\n",
        "   "
      ],
      "execution_count": 15,
      "outputs": [
        {
          "output_type": "stream",
          "text": [
            "   Id first_name company address\n",
            "0  11          A      aa     Hyd\n",
            "1  12          B      bb     Hyd\n",
            "2  13          C      cc     Hyd\n",
            "3  14          D      dd     Hyd\n",
            "4  15          E      ee     Hyd\n"
          ],
          "name": "stdout"
        }
      ]
    },
    {
      "cell_type": "code",
      "metadata": {
        "id": "xozJv0tUB5JK",
        "colab_type": "code",
        "colab": {}
      },
      "source": [
        "import os\n"
      ],
      "execution_count": 0,
      "outputs": []
    },
    {
      "cell_type": "code",
      "metadata": {
        "id": "s4bvbLk2F8ZZ",
        "colab_type": "code",
        "colab": {
          "base_uri": "https://localhost:8080/",
          "height": 183
        },
        "outputId": "cfcd142c-fabf-45a2-c266-83abb609671e"
      },
      "source": [
        "os.chdir(\"D:\\\\mydata\\\\\")\n",
        "mydt.to_csv('workingfile.csv',index=False)"
      ],
      "execution_count": 24,
      "outputs": [
        {
          "output_type": "error",
          "ename": "FileNotFoundError",
          "evalue": "ignored",
          "traceback": [
            "\u001b[0;31m---------------------------------------------------------------------------\u001b[0m",
            "\u001b[0;31mFileNotFoundError\u001b[0m                         Traceback (most recent call last)",
            "\u001b[0;32m<ipython-input-24-a654b93d85b3>\u001b[0m in \u001b[0;36m<module>\u001b[0;34m()\u001b[0m\n\u001b[0;32m----> 1\u001b[0;31m \u001b[0mos\u001b[0m\u001b[0;34m.\u001b[0m\u001b[0mchdir\u001b[0m\u001b[0;34m(\u001b[0m\u001b[0;34m\"D:\\\\mydata\\\\\"\u001b[0m\u001b[0;34m)\u001b[0m\u001b[0;34m\u001b[0m\u001b[0;34m\u001b[0m\u001b[0m\n\u001b[0m\u001b[1;32m      2\u001b[0m \u001b[0mmydt\u001b[0m\u001b[0;34m.\u001b[0m\u001b[0mto_csv\u001b[0m\u001b[0;34m(\u001b[0m\u001b[0;34m'workingfile.csv'\u001b[0m\u001b[0;34m,\u001b[0m\u001b[0mindex\u001b[0m\u001b[0;34m=\u001b[0m\u001b[0;32mFalse\u001b[0m\u001b[0;34m)\u001b[0m\u001b[0;34m\u001b[0m\u001b[0;34m\u001b[0m\u001b[0m\n",
            "\u001b[0;31mFileNotFoundError\u001b[0m: [Errno 2] No such file or directory: 'D:\\\\mydata\\\\'"
          ]
        }
      ]
    },
    {
      "cell_type": "markdown",
      "metadata": {
        "id": "2KipB2FMHBBR",
        "colab_type": "text"
      },
      "source": [
        "###reading data from csv file\n"
      ]
    },
    {
      "cell_type": "code",
      "metadata": {
        "id": "Yxf1Ee0EHF7l",
        "colab_type": "code",
        "colab": {}
      },
      "source": [
        "mydata=pd.read_csv('workingfile.csv')\n",
        "print(mydata)"
      ],
      "execution_count": 0,
      "outputs": []
    },
    {
      "cell_type": "code",
      "metadata": {
        "id": "RiK560asHVLu",
        "colab_type": "code",
        "colab": {}
      },
      "source": [
        ""
      ],
      "execution_count": 0,
      "outputs": []
    }
  ]
}