{
  "nbformat": 4,
  "nbformat_minor": 0,
  "metadata": {
    "colab": {
      "name": "assign2",
      "version": "0.3.2",
      "provenance": [],
      "include_colab_link": true
    },
    "kernelspec": {
      "name": "python3",
      "display_name": "Python 3"
    }
  },
  "cells": [
    {
      "cell_type": "markdown",
      "metadata": {
        "id": "view-in-github",
        "colab_type": "text"
      },
      "source": [
        "<a href=\"https://colab.research.google.com/github/kummaripranavi/gitam-221810309034/blob/master/assign2.ipynb\" target=\"_parent\"><img src=\"https://colab.research.google.com/assets/colab-badge.svg\" alt=\"Open In Colab\"/></a>"
      ]
    },
    {
      "cell_type": "code",
      "metadata": {
        "id": "eouPUvthvyXS",
        "colab_type": "code",
        "outputId": "dfda3efb-9b22-449c-f986-581a4144947d",
        "colab": {
          "base_uri": "https://localhost:8080/",
          "height": 35
        }
      },
      "source": [
        "#11. The program must accept an integer N as the input. \n",
        "#The program must print the fibonacci series in the reverse order as the output.\n",
        "#Example Input/Output 1:\n",
        "#Input:\n",
        "#5\n",
        "def reverseFib(n):\n",
        "    a = [0] * n \n",
        "    a[0] = 0 \n",
        "    a[1] = 1 \n",
        "    for i in range(2, n):  \n",
        "        a[i] = a[i - 2] + a[i - 1] \n",
        "    for i in range(n - 1, -1 , -1):  \n",
        "        print(a[i],end=\" \") \n",
        "        \n",
        "n = 5 \n",
        "reverseFib(n)"
      ],
      "execution_count": 0,
      "outputs": [
        {
          "output_type": "stream",
          "text": [
            "3 2 1 1 0 "
          ],
          "name": "stdout"
        }
      ]
    },
    {
      "cell_type": "code",
      "metadata": {
        "id": "u3LIohTA2Cgg",
        "colab_type": "code",
        "outputId": "143f30c3-9e30-44b4-a8ad-20dbb6dd34ec",
        "colab": {
          "base_uri": "https://localhost:8080/",
          "height": 35
        }
      },
      "source": [
        "#10\n",
        "def seriesGen2(n):\n",
        "    i=1\n",
        "    while i<=n:\n",
        "        print(i,end=\"  \")\n",
        "        i=i*2\n",
        "    return\n",
        "seriesGen2(100)"
      ],
      "execution_count": 0,
      "outputs": [
        {
          "output_type": "stream",
          "text": [
            "1  2  4  8  16  32  64  "
          ],
          "name": "stdout"
        }
      ]
    },
    {
      "cell_type": "code",
      "metadata": {
        "id": "aD1JyUMh2F8l",
        "colab_type": "code",
        "outputId": "207b699b-5052-4583-b8ab-e3a5d5d7b7bf",
        "colab": {
          "base_uri": "https://localhost:8080/",
          "height": 35
        }
      },
      "source": [
        "# Function for nth Fibonacci number in reverse order \n",
        "\n",
        "def reverseFibonacci(n): \n",
        "    a = [0] * n   \n",
        "    a[0] = 0 \n",
        "    a[1] = 1 \n",
        "    for i in range(2, n):   \n",
        "        a[i] = a[i - 2] + a[i - 1]  \n",
        "    for i in range(n - 1, -1 , -1):   \n",
        "        print(a[i],end=\" \")  \n",
        "n = 5 \n",
        "reverseFibonacci(n) \n",
        "def caps(s):\n",
        "    spacecnt=0\n",
        "    for x in range(len(s)):\n",
        "        if ord(s[x])==32:\n",
        "            spacecnt+=1\n",
        "        if spacecnt==1:\n",
        "            if ord(s[x])>=65 and ord(s[x])<=90:\n",
        "                print(s[x],end=\"\")\n",
        "            elif ord(s[x])>=97 and ord(s[x])<=122:\n",
        "                print(chr(ord(s[x])-32),end=\"\")\n",
        "        if spacecnt==2:\n",
        "            break\n",
        "    return\n",
        "caps(\"application Testing\")\n",
        " \n",
        "\n"
      ],
      "execution_count": 0,
      "outputs": [
        {
          "output_type": "stream",
          "text": [
            "3 2 1 1 0 TESTING"
          ],
          "name": "stdout"
        }
      ]
    },
    {
      "cell_type": "code",
      "metadata": {
        "id": "amyz5S5Gklqq",
        "colab_type": "code",
        "outputId": "0b72efb0-e635-4c9b-b69f-a0339a48c810",
        "colab": {
          "base_uri": "https://localhost:8080/",
          "height": 35
        }
      },
      "source": [
        "# Series Generation\n",
        "\n",
        "def seriesgeneration(n):\n",
        "    i=1\n",
        "    while i<=n:\n",
        "        print(i,end=\" \")\n",
        "        i=i*3\n",
        "    return\n",
        "seriesgeneration(100)"
      ],
      "execution_count": 0,
      "outputs": [
        {
          "output_type": "stream",
          "text": [
            "1 3 9 27 81 "
          ],
          "name": "stdout"
        }
      ]
    },
    {
      "cell_type": "code",
      "metadata": {
        "id": "gi1u5_cakhkM",
        "colab_type": "code",
        "outputId": "c75db4cb-4896-488d-f924-406a679f463d",
        "colab": {
          "base_uri": "https://localhost:8080/",
          "height": 35
        }
      },
      "source": [
        "# term of geometric progression  \n",
        "import math  \n",
        "  \n",
        "def Nth_of_GP(a, r, N):  \n",
        "    return( a * (int)(math.pow(r, N - 1)) )  \n",
        "a = 2\n",
        "r = 3 \n",
        "N = 5   \n",
        "print(\"The\", N, \"th term of the series is :\",  \n",
        "                            Nth_of_GP(a, r, N))"
      ],
      "execution_count": 0,
      "outputs": [
        {
          "output_type": "stream",
          "text": [
            "The 5 th term of the series is : 162\n"
          ],
          "name": "stdout"
        }
      ]
    },
    {
      "cell_type": "code",
      "metadata": {
        "id": "o2yQELzFuakV",
        "colab_type": "code",
        "outputId": "84399a3c-ae3e-4e6c-cf87-7d246e5e44e9",
        "colab": {
          "base_uri": "https://localhost:8080/",
          "height": 139
        }
      },
      "source": [
        "#2\n",
        "def Q2(n):\n",
        "    a=[]\n",
        "    s=0\n",
        "    for i in range(n):\n",
        "        a.append(int(input()))\n",
        "    for i in range(n):\n",
        "        c=0\n",
        "        for j in range(n):\n",
        "            if i!=j:\n",
        "               if a[i]==a[j]:\n",
        "                  c+=1\n",
        "        if c==0:\n",
        "            s=s+a[i]\n",
        "    return s\n",
        "Q2(int(input(\"no of values\")))"
      ],
      "execution_count": 0,
      "outputs": [
        {
          "output_type": "stream",
          "text": [
            "no of values5\n",
            "44\n",
            "66\n",
            "44\n",
            "99\n",
            "66\n"
          ],
          "name": "stdout"
        },
        {
          "output_type": "execute_result",
          "data": {
            "text/plain": [
              "99"
            ]
          },
          "metadata": {
            "tags": []
          },
          "execution_count": 14
        }
      ]
    },
    {
      "cell_type": "code",
      "metadata": {
        "id": "-UvBTT_Hx4JY",
        "colab_type": "code",
        "outputId": "31edabb3-82c7-4cb4-c45a-9dcabbeea6c5",
        "colab": {
          "base_uri": "https://localhost:8080/",
          "height": 156
        }
      },
      "source": [
        "def Q3(a,b):\n",
        "    if len(a)<=len(b):\n",
        "        n=len(a)\n",
        "        k=len(b)\n",
        "    else:\n",
        "        n=len(b)\n",
        "        k=len(a)\n",
        "    for i in range(n):\n",
        "        print(a[i],b[i])\n",
        "    for j in range(n,k):\n",
        "        if(len(a)<=len(b)):\n",
        "            print(b[j],'*')\n",
        "        else:\n",
        "            print(a[j],'*')\n",
        "    return\n",
        "x=str(input(\"enter str:\"))\n",
        "x=x.split()\n",
        "Q3(x[0],x[1])"
      ],
      "execution_count": 0,
      "outputs": [
        {
          "output_type": "stream",
          "text": [
            "enter str:kummari  pranavi\n",
            "k p\n",
            "u r\n",
            "m a\n",
            "m n\n",
            "a a\n",
            "r v\n",
            "i i\n"
          ],
          "name": "stdout"
        }
      ]
    },
    {
      "cell_type": "code",
      "metadata": {
        "id": "A6nKjd_9y9Px",
        "colab_type": "code",
        "outputId": "03ed310b-88a2-4b24-c549-4558a32ed0d9",
        "colab": {
          "base_uri": "https://localhost:8080/",
          "height": 52
        }
      },
      "source": [
        "def Q4(a,b):\n",
        "  if len(a)>=len(b):\n",
        "       print(a.upper())\n",
        "  else:\n",
        "       print(b.upper())\n",
        "  return\n",
        "x=str(input(\"enter str:\"))\n",
        "x=x.split()\n",
        "Q4(x[0],x[1])"
      ],
      "execution_count": 0,
      "outputs": [
        {
          "output_type": "stream",
          "text": [
            "enter str:kps ksp\n",
            "KPS\n"
          ],
          "name": "stdout"
        }
      ]
    },
    {
      "cell_type": "code",
      "metadata": {
        "id": "HiL62F760Kac",
        "colab_type": "code",
        "outputId": "ffc92f32-f68c-4f7f-a95a-5af063c68eb2",
        "colab": {
          "base_uri": "https://localhost:8080/",
          "height": 35
        }
      },
      "source": [
        "def Q5_1(a):\n",
        "    a=a.split()\n",
        "    for i in range (len(a)):\n",
        "        if a[i].istitle()==True:\n",
        "            print(a[i].upper(),end= \" \")\n",
        "    return\n",
        "x=str(input(\"enter str:\"))\n",
        "Q5_1(x)\n",
        "\n",
        "\n"
      ],
      "execution_count": 0,
      "outputs": [
        {
          "output_type": "stream",
          "text": [
            "enter str:ksp\n"
          ],
          "name": "stdout"
        }
      ]
    },
    {
      "cell_type": "code",
      "metadata": {
        "id": "fVJk8DMx0xNT",
        "colab_type": "code",
        "outputId": "f45b7a29-4ead-4e27-d0d2-0d0ee1b4b3ec",
        "colab": {
          "base_uri": "https://localhost:8080/",
          "height": 156
        }
      },
      "source": [
        "def Q7(n):\n",
        "    for i in range(len(n)):\n",
        "        n[i]=int(n[i])\n",
        "    for i in range(len(n)):\n",
        "        for j in range(n[i]):\n",
        "            print(\"*\",end=\"\")\n",
        "        print(\"\")\n",
        "    return\n",
        "x=input(\"enter num\")\n",
        "Q7(list(x))"
      ],
      "execution_count": 0,
      "outputs": [
        {
          "output_type": "stream",
          "text": [
            "enter num2503634\n",
            "**\n",
            "*****\n",
            "\n",
            "***\n",
            "******\n",
            "***\n",
            "****\n"
          ],
          "name": "stdout"
        }
      ]
    },
    {
      "cell_type": "code",
      "metadata": {
        "id": "P1GGv1jM2nDK",
        "colab_type": "code",
        "outputId": "7c4b95a7-f428-4458-b3d5-af8778fada49",
        "colab": {
          "base_uri": "https://localhost:8080/",
          "height": 212
        }
      },
      "source": [
        "def Q3(a,b):\n",
        "    if len(a)<=len(b):\n",
        "        n=len(a)\n",
        "        k=len(b)\n",
        "    else:\n",
        "        n=len(b)\n",
        "        k=len(a)\n",
        "    for i in range(n):\n",
        "        print(a[i],b[i])\n",
        "    for j in range(n,k):\n",
        "        if(len(a)<=len(b)):\n",
        "            print(b[j],'*')\n",
        "        else:\n",
        "            print(a[j],'*')\n",
        "    return\n",
        "x=str(input(\"enter str:\"))\n",
        "x=x.split()\n",
        "Q3(x[0],x[1])"
      ],
      "execution_count": 0,
      "outputs": [
        {
          "output_type": "stream",
          "text": [
            "enter str:ghf\n"
          ],
          "name": "stdout"
        },
        {
          "output_type": "error",
          "ename": "IndexError",
          "evalue": "ignored",
          "traceback": [
            "\u001b[0;31m---------------------------------------------------------------------------\u001b[0m",
            "\u001b[0;31mIndexError\u001b[0m                                Traceback (most recent call last)",
            "\u001b[0;32m<ipython-input-24-baa87426f3bc>\u001b[0m in \u001b[0;36m<module>\u001b[0;34m()\u001b[0m\n\u001b[1;32m     16\u001b[0m \u001b[0mx\u001b[0m\u001b[0;34m=\u001b[0m\u001b[0mstr\u001b[0m\u001b[0;34m(\u001b[0m\u001b[0minput\u001b[0m\u001b[0;34m(\u001b[0m\u001b[0;34m\"enter str:\"\u001b[0m\u001b[0;34m)\u001b[0m\u001b[0;34m)\u001b[0m\u001b[0;34m\u001b[0m\u001b[0;34m\u001b[0m\u001b[0m\n\u001b[1;32m     17\u001b[0m \u001b[0mx\u001b[0m\u001b[0;34m=\u001b[0m\u001b[0mx\u001b[0m\u001b[0;34m.\u001b[0m\u001b[0msplit\u001b[0m\u001b[0;34m(\u001b[0m\u001b[0;34m)\u001b[0m\u001b[0;34m\u001b[0m\u001b[0;34m\u001b[0m\u001b[0m\n\u001b[0;32m---> 18\u001b[0;31m \u001b[0mQ3\u001b[0m\u001b[0;34m(\u001b[0m\u001b[0mx\u001b[0m\u001b[0;34m[\u001b[0m\u001b[0;36m0\u001b[0m\u001b[0;34m]\u001b[0m\u001b[0;34m,\u001b[0m\u001b[0mx\u001b[0m\u001b[0;34m[\u001b[0m\u001b[0;36m1\u001b[0m\u001b[0;34m]\u001b[0m\u001b[0;34m)\u001b[0m\u001b[0;34m\u001b[0m\u001b[0;34m\u001b[0m\u001b[0m\n\u001b[0m",
            "\u001b[0;31mIndexError\u001b[0m: list index out of range"
          ]
        }
      ]
    },
    {
      "cell_type": "code",
      "metadata": {
        "id": "N1oRNoNByIu8",
        "colab_type": "code",
        "colab": {}
      },
      "source": [
        "GFD"
      ],
      "execution_count": 0,
      "outputs": []
    }
  ]
}