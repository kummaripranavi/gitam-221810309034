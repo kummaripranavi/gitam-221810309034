{
  "nbformat": 4,
  "nbformat_minor": 0,
  "metadata": {
    "colab": {
      "name": "DAY 8",
      "version": "0.3.2",
      "provenance": [],
      "include_colab_link": true
    },
    "kernelspec": {
      "name": "python3",
      "display_name": "Python 3"
    }
  },
  "cells": [
    {
      "cell_type": "markdown",
      "metadata": {
        "id": "view-in-github",
        "colab_type": "text"
      },
      "source": [
        "<a href=\"https://colab.research.google.com/github/kummaripranavi/gitam-221810309034/blob/master/DAY_8.ipynb\" target=\"_parent\"><img src=\"https://colab.research.google.com/assets/colab-badge.svg\" alt=\"Open In Colab\"/></a>"
      ]
    },
    {
      "cell_type": "markdown",
      "metadata": {
        "id": "pk1vF7Pg4cdO",
        "colab_type": "text"
      },
      "source": [
        "###DAY OBJECTIVES\n",
        "\n",
        "\n",
        "*   PYTHON DATA SYSTEM\n",
        "*   LiST\n",
        "*TUPLES\n",
        "*DICTIONARIES\n",
        "*BASISCS  PROGRAM SETS ON DAAT STRUCTURE\n",
        "*ADVANCED PROBLEM SET\n",
        "*CONTACT\n",
        "*APPLICATION(DICTIONARY OBEJECT)\n",
        "\n"
      ]
    },
    {
      "cell_type": "code",
      "metadata": {
        "id": "uLakfYxj4RK9",
        "colab_type": "code",
        "outputId": "e1338da3-6adc-4a48-d405-11e540e783af",
        "colab": {
          "base_uri": "https://localhost:8080/",
          "height": 136
        }
      },
      "source": [
        "lst=[1,8,16,9,2]#creating the list obejective in python\n",
        "print(lst)#access the entire list\n",
        "print(lst[0])#access the first item list\n",
        "print(lst[1])#access the second itemlist\n",
        "print(lst[-1])#access the last item list\n",
        "print(lst[-2])\n",
        "print(lst[1:])\n",
        "print(lst[1:4])\n"
      ],
      "execution_count": 0,
      "outputs": [
        {
          "output_type": "stream",
          "text": [
            "[1, 8, 16, 9, 2]\n",
            "1\n",
            "8\n",
            "2\n",
            "9\n",
            "[8, 16, 9, 2]\n",
            "[8, 16, 9]\n"
          ],
          "name": "stdout"
        }
      ]
    },
    {
      "cell_type": "code",
      "metadata": {
        "id": "xis2qjUP5-Jg",
        "colab_type": "code",
        "outputId": "4cf39063-88f2-4f49-dfe5-4aadc09ead15",
        "colab": {
          "base_uri": "https://localhost:8080/",
          "height": 51
        }
      },
      "source": [
        "li=[\"Gitam\",\"Python\",1989,2002]\n",
        "print(li)\n",
        "li[2]=2019\n",
        "print(li)"
      ],
      "execution_count": 0,
      "outputs": [
        {
          "output_type": "stream",
          "text": [
            "['Gitam', 'Python', 1989, 2002]\n",
            "['Gitam', 'Python', 2019, 2002]\n"
          ],
          "name": "stdout"
        }
      ]
    },
    {
      "cell_type": "code",
      "metadata": {
        "id": "ZlmQTCeg6Yc4",
        "colab_type": "code",
        "outputId": "8f4e1584-b4d8-468f-dc4c-fde18a5b0339",
        "colab": {
          "base_uri": "https://localhost:8080/",
          "height": 51
        }
      },
      "source": [
        "#delet the specific item in list\n",
        "print(li)\n",
        "del li[2]\n",
        "print(li)"
      ],
      "execution_count": 0,
      "outputs": [
        {
          "output_type": "stream",
          "text": [
            "['Gitam', 'Python', 2019, 2002]\n",
            "['Gitam', 'Python', 2002]\n"
          ],
          "name": "stdout"
        }
      ]
    },
    {
      "cell_type": "code",
      "metadata": {
        "id": "_-m6q-uc7KkY",
        "colab_type": "code",
        "outputId": "81dccc16-a4f0-4e9a-eb9c-83f333759a10",
        "colab": {
          "base_uri": "https://localhost:8080/",
          "height": 119
        }
      },
      "source": [
        "#basic list operation\n",
        "lst1=[1,9,6,18,2]\n",
        "print(len(lst1))#len of the list\n",
        "print(lst1*2)#repetion\n",
        "print(len(lst1))\n",
        "print(9 in lst1)\n",
        "print(15 in lst1)\n",
        "for x in range(len(lst1)):\n",
        "  print(lst[x],end=\"\")\n"
      ],
      "execution_count": 0,
      "outputs": [
        {
          "output_type": "stream",
          "text": [
            "5\n",
            "[1, 9, 6, 18, 2, 1, 9, 6, 18, 2]\n",
            "5\n",
            "True\n",
            "False\n",
            "196182"
          ],
          "name": "stdout"
        }
      ]
    },
    {
      "cell_type": "code",
      "metadata": {
        "id": "iBadxYaa8au5",
        "colab_type": "code",
        "outputId": "d464ab86-f3f1-4b9b-d175-733a55a8c819",
        "colab": {
          "base_uri": "https://localhost:8080/",
          "height": 102
        }
      },
      "source": [
        "#functions of list \n",
        "lst1\n",
        "print(min(lst1))#min  item of thr list\n",
        "print(max(lst))#max elements of the list\n",
        "print(sum(lst))#sum of teh all elemeents of list\n",
        "print(sum(lst)//len(lst))#avarage\n",
        "print(sum(lst1[1::2])/len(lst1[1:2]))#averge of all"
      ],
      "execution_count": 0,
      "outputs": [
        {
          "output_type": "stream",
          "text": [
            "1\n",
            "18\n",
            "36\n",
            "7\n",
            "201.0\n"
          ],
          "name": "stdout"
        }
      ]
    },
    {
      "cell_type": "code",
      "metadata": {
        "id": "mZ9Vw9sK_VWu",
        "colab_type": "code",
        "outputId": "de7fd94f-caff-4a52-f0b9-7d6285043e63",
        "colab": {
          "base_uri": "https://localhost:8080/",
          "height": 34
        }
      },
      "source": [
        "lst1 \n",
        "lst1.append(24)#add new element\n",
        "lst1\n",
        "lst1.insert(2,56)#add element\n",
        "lst1\n",
        "lst1.count(18)#return va;ue many times \n",
        "lst1.index(56)\n",
        "lst1.sort\n",
        "lst1\n",
        "lst1.pop\n",
        "lst1\n",
        "lst1.pop(1)\n",
        "lst2=[123,23,45]\n",
        "lst1.extend(lst2)#merge\n",
        "lst1"
      ],
      "execution_count": 0,
      "outputs": [
        {
          "output_type": "execute_result",
          "data": {
            "text/plain": [
              "[1, 56, 56, 56, 6, 18, 2, 24, 24, 24, 123, 23, 45]"
            ]
          },
          "metadata": {
            "tags": []
          },
          "execution_count": 19
        }
      ]
    },
    {
      "cell_type": "code",
      "metadata": {
        "id": "7MYnSk7CC-_Y",
        "colab_type": "code",
        "outputId": "428f0caf-3314-457a-f756-82d84ecc66c5",
        "colab": {
          "base_uri": "https://localhost:8080/",
          "height": 34
        }
      },
      "source": [
        "li=[1,9,8,2,6,3]\n",
        "print(li[-1:2:-2])"
      ],
      "execution_count": 0,
      "outputs": [
        {
          "output_type": "stream",
          "text": [
            "[3, 2]\n"
          ],
          "name": "stdout"
        }
      ]
    },
    {
      "cell_type": "code",
      "metadata": {
        "id": "r5FY_qudFKwf",
        "colab_type": "code",
        "outputId": "3585a51b-51a2-4731-9edc-b78d0f34f367",
        "colab": {
          "base_uri": "https://localhost:8080/",
          "height": 34
        }
      },
      "source": [
        "li=[1,9,8,2,6,3]\n",
        "print(li[-2:2:-2])"
      ],
      "execution_count": 0,
      "outputs": [
        {
          "output_type": "stream",
          "text": [
            "[6]\n"
          ],
          "name": "stdout"
        }
      ]
    },
    {
      "cell_type": "code",
      "metadata": {
        "id": "L0f_L-eQFpiT",
        "colab_type": "code",
        "outputId": "0678391c-643a-46a9-c530-c5c7652dfcc1",
        "colab": {
          "base_uri": "https://localhost:8080/",
          "height": 34
        }
      },
      "source": [
        " #function to find 2nd large item \n",
        "  #input:[1,19,6,2,8,18,3]\n",
        "  #output:18\n",
        "def secondlarge(li):\n",
        "    li.sort\n",
        "    return li[-2]\n",
        "li=[1,19,6,2,8,18,3]\n",
        "secondlarge(li)"
      ],
      "execution_count": 0,
      "outputs": [
        {
          "output_type": "execute_result",
          "data": {
            "text/plain": [
              "18"
            ]
          },
          "metadata": {
            "tags": []
          },
          "execution_count": 25
        }
      ]
    },
    {
      "cell_type": "code",
      "metadata": {
        "id": "MTxmNUGpJf0Y",
        "colab_type": "code",
        "outputId": "d241cd0e-ae0f-4cac-9b9e-18ba85bcd6c8",
        "colab": {
          "base_uri": "https://localhost:8080/",
          "height": 34
        }
      },
      "source": [
        "#function to find 2nd large item \n",
        "  #input:[1,19,6,2,8,18,3]\n",
        "  #output:18\n",
        "def secondlarge(li):\n",
        "    li.sort()\n",
        "    return li[-2]\n",
        "def genericlarge(li,n):\n",
        "    li.sort()\n",
        "    return li[-n]\n",
        "li=[1,19,6,2,8,18,3]\n",
        "genericlarge(li,4)"
      ],
      "execution_count": 0,
      "outputs": [
        {
          "output_type": "execute_result",
          "data": {
            "text/plain": [
              "6"
            ]
          },
          "metadata": {
            "tags": []
          },
          "execution_count": 28
        }
      ]
    },
    {
      "cell_type": "code",
      "metadata": {
        "id": "4Aa4ZhdkK30N",
        "colab_type": "code",
        "outputId": "8278767c-05a6-416a-a73b-26ebc6ae9cf3",
        "colab": {
          "base_uri": "https://localhost:8080/",
          "height": 34
        }
      },
      "source": [
        "#function to find the least item\n",
        "#IP:[1,19,,6,2,8,18,3]\n",
        "#OP:2\n",
        "def secondleast(li):\n",
        "  li.sort()\n",
        "  return li[1]\n",
        "def genericlarge(li,n):\n",
        "    li.sort()\n",
        "    return li[n-1]\n",
        "li=[1,19,6,2,8,18,3]\n",
        "genericlarge(li,4)"
      ],
      "execution_count": 0,
      "outputs": [
        {
          "output_type": "execute_result",
          "data": {
            "text/plain": [
              "6"
            ]
          },
          "metadata": {
            "tags": []
          },
          "execution_count": 29
        }
      ]
    },
    {
      "cell_type": "code",
      "metadata": {
        "id": "53k2PDm1UdvR",
        "colab_type": "code",
        "colab": {
          "base_uri": "https://localhost:8080/",
          "height": 35
        },
        "outputId": "d30808ab-2435-4b3c-be56-6f28fd6f00e2"
      },
      "source": [
        "# linear fibanacci\n",
        "\n",
        "def linearsearch5(lst):\n",
        "    for x in range(len(lst)):\n",
        "        if x  == 0 or x == len(lst) - 1:\n",
        "            print(lst[x],end=\"  \")\n",
        "        else:\n",
        "             print(lst[x-1]*lst[x+1],end=\"  \")\n",
        "    return\n",
        "lst = [1,2,3,4,5]\n",
        "linearsearch5(lst)"
      ],
      "execution_count": 1,
      "outputs": [
        {
          "output_type": "stream",
          "text": [
            "1  3  8  15  5  "
          ],
          "name": "stdout"
        }
      ]
    },
    {
      "cell_type": "code",
      "metadata": {
        "id": "CJG74UFKUesi",
        "colab_type": "code",
        "colab": {
          "base_uri": "https://localhost:8080/",
          "height": 35
        },
        "outputId": "398a9a82-91d3-463f-b428-ae592a7bacbe"
      },
      "source": [
        "# sum of numbers multiple by 3 and 5\n",
        "\n",
        "def linearsearch(lst):\n",
        "    sum = 0\n",
        "    for x in range(len(lst)):\n",
        "        if lst[x] % 3 == 0 and lst[x] % 5 == 0:\n",
        "            sum += lst[x]\n",
        "    return sum\n",
        "lst = [12,2,45,9,18,15,36]\n",
        "linearsearch(lst)"
      ],
      "execution_count": 2,
      "outputs": [
        {
          "output_type": "execute_result",
          "data": {
            "text/plain": [
              "60"
            ]
          },
          "metadata": {
            "tags": []
          },
          "execution_count": 2
        }
      ]
    },
    {
      "cell_type": "code",
      "metadata": {
        "id": "lFIQljVdUgCf",
        "colab_type": "code",
        "colab": {
          "base_uri": "https://localhost:8080/",
          "height": 35
        },
        "outputId": "103f2e78-e87e-4c6a-d32c-47402afedcfd"
      },
      "source": [
        "# function to print ! symbol insted of numbers\n",
        "\n",
        "def linearsearch3(lst,targetitem):\n",
        "    for x in range(len(lst)):\n",
        "        if lst[x] == targetitem:\n",
        "            j = 0\n",
        "            while j != x+1:\n",
        "                print(\"!\",end=\"  \")\n",
        "                j= j+1\n",
        "            print(end=\"  \")\n",
        "    return\n",
        "lst = [1,5,9,6,5,15,1,2,5]\n",
        "linearsearch3(lst,5)"
      ],
      "execution_count": 3,
      "outputs": [
        {
          "output_type": "stream",
          "text": [
            "!  !    !  !  !  !  !    !  !  !  !  !  !  !  !  !    "
          ],
          "name": "stdout"
        }
      ]
    },
    {
      "cell_type": "code",
      "metadata": {
        "id": "IT68EayMUqhY",
        "colab_type": "code",
        "colab": {
          "base_uri": "https://localhost:8080/",
          "height": 35
        },
        "outputId": "a01ed54a-be28-44a3-aa0b-a6c81ba1f97c"
      },
      "source": [
        "# function to remove duplicate numbers\n",
        "\n",
        "def linearsearch(lst,targetitem):\n",
        "    for x in range(len(lst)):\n",
        "        if lst[x] == targetitem:\n",
        "            print(x,end=\"  \")\n",
        "    return\n",
        "lst = [1,5,9,6,5,15,1,2,5]\n",
        "linearsearch(lst,5)"
      ],
      "execution_count": 4,
      "outputs": [
        {
          "output_type": "stream",
          "text": [
            "1  4  8  "
          ],
          "name": "stdout"
        }
      ]
    },
    {
      "cell_type": "code",
      "metadata": {
        "id": "F0qAzdKNUuQo",
        "colab_type": "code",
        "colab": {
          "base_uri": "https://localhost:8080/",
          "height": 35
        },
        "outputId": "4ba0f428-0415-441c-fcde-b23b0f5bc622"
      },
      "source": [
        "# finding the second largest number\n",
        "\n",
        "def secondlarge(lst):\n",
        "    lst.sort()\n",
        "    return lst[1]\n",
        "def genericleast(lst,n):\n",
        "    lst.sort()\n",
        "    return lst[n-1]\n",
        "lst=[1,19,6,2,8,18,3]\n",
        "genericleast(lst,4)"
      ],
      "execution_count": 5,
      "outputs": [
        {
          "output_type": "execute_result",
          "data": {
            "text/plain": [
              "6"
            ]
          },
          "metadata": {
            "tags": []
          },
          "execution_count": 5
        }
      ]
    },
    {
      "cell_type": "code",
      "metadata": {
        "id": "aGsFpbkiUyOW",
        "colab_type": "code",
        "colab": {
          "base_uri": "https://localhost:8080/",
          "height": 35
        },
        "outputId": "e78b7aea-f2c7-4e6c-c2d2-72a33e98a17e"
      },
      "source": [
        "# function to search data in a list using linear search\n",
        "# if not found return -1\n",
        "\n",
        "def linearsearch(lst,targetitem):\n",
        "    for x in range(len(lst)):\n",
        "        if lst[x] == targetitem:\n",
        "            return x\n",
        "    return -1\n",
        "lst = [1,19,6,2,8,18,3]\n",
        "linearsearch(lst,8)"
      ],
      "execution_count": 6,
      "outputs": [
        {
          "output_type": "execute_result",
          "data": {
            "text/plain": [
              "4"
            ]
          },
          "metadata": {
            "tags": []
          },
          "execution_count": 6
        }
      ]
    },
    {
      "cell_type": "code",
      "metadata": {
        "id": "wuOfvn4JU1_o",
        "colab_type": "code",
        "colab": {
          "base_uri": "https://localhost:8080/",
          "height": 35
        },
        "outputId": "56003eb2-7a1c-460a-e4d8-e4b31a7836b6"
      },
      "source": [
        "# different operations\n",
        "\n",
        "lst1 = [1,6,2,9,18,3,24]\n",
        "lst1\n",
        "lst1.append(24)\n",
        "lst1\n",
        "lst1.insert(2,56)\n",
        "lst1\n",
        "lst1.count(18)\n",
        "lst1\n",
        "lst1.index(56)\n",
        "lst1\n",
        "lst1.sort()\n",
        "lst1\n",
        "lst1.pop()\n",
        "lst1\n",
        "lst1.pop(1)\n",
        "lst2 = [123,23,45]\n",
        "lst1.extend(lst2)\n",
        "lst1\n",
        "lst1.reverse()\n",
        "lst1\n",
        "lst1.remove(123)\n",
        "lst1\n"
      ],
      "execution_count": 7,
      "outputs": [
        {
          "output_type": "execute_result",
          "data": {
            "text/plain": [
              "[45, 23, 24, 24, 18, 9, 6, 3, 1]"
            ]
          },
          "metadata": {
            "tags": []
          },
          "execution_count": 7
        }
      ]
    },
    {
      "cell_type": "code",
      "metadata": {
        "id": "X7tien7nU7Ro",
        "colab_type": "code",
        "colab": {
          "base_uri": "https://localhost:8080/",
          "height": 35
        },
        "outputId": "c0d304e3-f031-4c42-96d6-2b09f061f6b1"
      },
      "source": [
        "#FUNCTION\n",
        "#IP:LIST\n",
        "#OP:FORMATERD OP\n",
        "#TEST CASES:\n",
        "#[1,6,9,,4,16,19,22]---1 9 19 22\n",
        "def linearsearch(li):\n",
        "  #implement the logic\n",
        "  for x in range(len(li)):\n",
        "    if x==0 or x==len(li)-1:\n",
        "      print(li[x],end=\" \")\n",
        "    elif li[x-1]%2==0and li[x+1]%2==0:\n",
        "      print(li[x],end=\" \")\n",
        "  return\n",
        "li=[1,6,9,16,19,22]\n",
        "linearsearch(li)#1 9 19 22 \n",
        "\n",
        "  \n",
        "\n"
      ],
      "execution_count": 11,
      "outputs": [
        {
          "output_type": "stream",
          "text": [
            "1 9 19 22 "
          ],
          "name": "stdout"
        }
      ]
    },
    {
      "cell_type": "markdown",
      "metadata": {
        "id": "HUzVLyMAZ1S4",
        "colab_type": "text"
      },
      "source": [
        "###number to list\n",
        "\n",
        "\n",
        "*   IP as number\n",
        "*   expexted op will be list\n",
        "\n",
        "\n"
      ]
    },
    {
      "cell_type": "code",
      "metadata": {
        "id": "IUP3ArzmaDxR",
        "colab_type": "code",
        "colab": {
          "base_uri": "https://localhost:8080/",
          "height": 35
        },
        "outputId": "521fee8b-d357-4727-9735-3e81cd29ba05"
      },
      "source": [
        "#function for converstion -number to list\n",
        "#ip-number\n",
        "#op-list\n",
        "#test cases-\n",
        "14569-1,4,5,6,9\n",
        "1991-1,9,9,0\n",
        "def numberlistconversion(n):\n",
        "  li=[]\n",
        "  while n!=0:\n",
        "    r=n%10\n",
        "    li.append(r)\n",
        "    n=n//10\n",
        "  li.reverse()\n",
        "  return li\n",
        "numberlistconversion(14569)#[1,4,5,6,9]"
      ],
      "execution_count": 14,
      "outputs": [
        {
          "output_type": "execute_result",
          "data": {
            "text/plain": [
              "[1, 4, 5, 6, 9]"
            ]
          },
          "metadata": {
            "tags": []
          },
          "execution_count": 14
        }
      ]
    },
    {
      "cell_type": "code",
      "metadata": {
        "id": "VoBT9AkXcpp5",
        "colab_type": "code",
        "colab": {
          "base_uri": "https://localhost:8080/",
          "height": 35
        },
        "outputId": "39d6e193-6faa-4a8a-d962-f762683a376d"
      },
      "source": [
        "#function to count the occurance of a chararcter in astring\n",
        "#\"python programming\",p->2\n",
        "#          \"\"        ,m->2\n",
        "def countcharoccurances(s,c):\n",
        "    cnt=0\n",
        "    for ch in s:\n",
        "      if ch == c:\n",
        "        cnt+=1\n",
        "    return cnt\n",
        "countcharoccurances(\"python programming\",'p')"
      ],
      "execution_count": 16,
      "outputs": [
        {
          "output_type": "execute_result",
          "data": {
            "text/plain": [
              "2"
            ]
          },
          "metadata": {
            "tags": []
          },
          "execution_count": 16
        }
      ]
    },
    {
      "cell_type": "markdown",
      "metadata": {
        "id": "14N68llzhDIo",
        "colab_type": "text"
      },
      "source": [
        "###string to list conversion\n",
        "\n",
        "\n",
        "1.   ip will be string\n",
        "2.   expected op will be list\n",
        "\n"
      ]
    },
    {
      "cell_type": "code",
      "metadata": {
        "id": "kJw0OXwqhOyy",
        "colab_type": "code",
        "colab": {
          "base_uri": "https://localhost:8080/",
          "height": 35
        },
        "outputId": "ad4a7037-129b-4bc3-cdd8-6c0fc1570edc"
      },
      "source": [
        "#function to convert the string to list\n",
        "#test case\n",
        "#\"1 2 3 4 5 6\"--[1,2,3,4,5,6]\n",
        "def stringtolistconversion(s):\n",
        "  li =s.split()\n",
        "  numberlist=[]\n",
        "  for i in li:\n",
        "    numberlist.append(int(i))\n",
        "  return numberlist\n",
        "s=\"1 2 3 4 5 6\"\n",
        "stringtolistconversion(s)#[1,2,3,4,5,6]"
      ],
      "execution_count": 21,
      "outputs": [
        {
          "output_type": "execute_result",
          "data": {
            "text/plain": [
              "[1, 2, 3, 4, 5, 6]"
            ]
          },
          "metadata": {
            "tags": []
          },
          "execution_count": 21
        }
      ]
    },
    {
      "cell_type": "markdown",
      "metadata": {
        "id": "9-vUshbKj0Ut",
        "colab_type": "text"
      },
      "source": [
        "###sorting algorithms:\n",
        "\n",
        "1.   bubble sort\n",
        "2.   selection sort\n",
        "\n",
        "1.   insertion sort\n",
        "2.   all thes sorting algorithms makes the list into ascemding order\n",
        "\n",
        "\n"
      ]
    },
    {
      "cell_type": "markdown",
      "metadata": {
        "id": "blA4HP0qkUCV",
        "colab_type": "text"
      },
      "source": [
        "bubble sort\n",
        "1.   this algorithm compare the adj elements,if the first element \n",
        "2.   \n",
        "\n",
        "\n",
        "\n"
      ]
    }
  ]
}