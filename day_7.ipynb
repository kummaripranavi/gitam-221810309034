{
  "nbformat": 4,
  "nbformat_minor": 0,
  "metadata": {
    "colab": {
      "name": "day 7",
      "version": "0.3.2",
      "provenance": [],
      "include_colab_link": true
    },
    "kernelspec": {
      "name": "python3",
      "display_name": "Python 3"
    }
  },
  "cells": [
    {
      "cell_type": "markdown",
      "metadata": {
        "id": "view-in-github",
        "colab_type": "text"
      },
      "source": [
        "<a href=\"https://colab.research.google.com/github/kummaripranavi/gitam-221810309034/blob/master/day_7.ipynb\" target=\"_parent\"><img src=\"https://colab.research.google.com/assets/colab-badge.svg\" alt=\"Open In Colab\"/></a>"
      ]
    },
    {
      "cell_type": "code",
      "metadata": {
        "id": "EjPEEo4tG4gy",
        "colab_type": "code",
        "outputId": "e0601410-71a2-4374-c283-9151bcbde9f1",
        "colab": {
          "base_uri": "https://localhost:8080/",
          "height": 34
        }
      },
      "source": [
        "#FIND THE FACTORS OF A GIVEN NUMBER\n",
        "#12--> 1 2 3 4 6 12\n",
        "def factorslist(n):\n",
        "  for i in range(1,n+1):\n",
        "    if n%i==0:\n",
        "      print(i,end=\" \")\n",
        "  return\n",
        "factorslist(12)"
      ],
      "execution_count": 0,
      "outputs": [
        {
          "output_type": "stream",
          "text": [
            "1 2 3 4 6 12 "
          ],
          "name": "stdout"
        }
      ]
    },
    {
      "cell_type": "code",
      "metadata": {
        "id": "aIouWjfnH1SK",
        "colab_type": "code",
        "outputId": "cba5788e-1d42-426e-ed0e-fd37acb972ae",
        "colab": {
          "base_uri": "https://localhost:8080/",
          "height": 34
        }
      },
      "source": [
        "# Given number is a prime number or not\n",
        "def isPrime(n):\n",
        "    flag=True\n",
        "    for i in range(2,n//2+1):\n",
        "        if n%i==0:\n",
        "            flag=False\n",
        "            return flag\n",
        "    return flag\n",
        "isPrime(11)"
      ],
      "execution_count": 0,
      "outputs": [
        {
          "output_type": "execute_result",
          "data": {
            "text/plain": [
              "True"
            ]
          },
          "metadata": {
            "tags": []
          },
          "execution_count": 15
        }
      ]
    },
    {
      "cell_type": "code",
      "metadata": {
        "id": "fvSmpVRaJQUi",
        "colab_type": "code",
        "outputId": "e7fecc96-527a-4f7b-fa40-5bb9dbc95901",
        "colab": {
          "base_uri": "https://localhost:8080/",
          "height": 34
        }
      },
      "source": [
        "#FUNCTION TO FIND PRIME NUMBER COUNT 1TO  N \n",
        "#10--4(2,3,5,4)\n",
        "def primenumber(n):\n",
        "    cnt=0\n",
        "    for a in range(2,n+1):\n",
        "      k=0\n",
        "      for i in range(2,a//2+1):\n",
        "        if a%i==0:\n",
        "           k=k+1\n",
        "           \n",
        "        if(k<=0):\n",
        "          cnt=cnt+1\n",
        "    return cnt\n",
        "primenumber(10) "
      ],
      "execution_count": 0,
      "outputs": [
        {
          "output_type": "execute_result",
          "data": {
            "text/plain": [
              "4"
            ]
          },
          "metadata": {
            "tags": []
          },
          "execution_count": 24
        }
      ]
    },
    {
      "cell_type": "code",
      "metadata": {
        "id": "FjI6YuryM_m2",
        "colab_type": "code",
        "outputId": "70bc4130-9c71-42d9-afc3-462b6fa33caf",
        "colab": {
          "base_uri": "https://localhost:8080/",
          "height": 50
        }
      },
      "source": [
        "#individual didgits factorila sum is sum as orignal\n",
        "#I P=145,123\n",
        "#OP=YES,NO\n",
        "\n",
        "def factorial(n):\n",
        "  fact=1\n",
        "  for i in range(2,n+1):\n",
        "    fact*=i\n",
        "  return fact\n",
        "def digitfactsum(n):\n",
        "  sum=0\n",
        "  buffer=n\n",
        "  while n!=0:\n",
        "      r=n%10\n",
        "      sum+=factorial(r)\n",
        "      n=n//10\n",
        "  if sum==buffer:\n",
        "      return\"yes\"\n",
        "  else:\n",
        "      return\"no\"\n",
        "  return\n",
        "print(digitfactsum(145))\n",
        "print(digitfactsum(123))"
      ],
      "execution_count": 0,
      "outputs": [
        {
          "output_type": "stream",
          "text": [
            "yes\n",
            "no\n"
          ],
          "name": "stdout"
        }
      ]
    },
    {
      "cell_type": "code",
      "metadata": {
        "id": "1uUuRlYLPdPF",
        "colab_type": "code",
        "outputId": "cbb49650-1ca6-4898-c2a0-e588f1b1418d",
        "colab": {
          "base_uri": "https://localhost:8080/",
          "height": 34
        }
      },
      "source": [
        "\n",
        "# function to print \"python\"  if the count of\n",
        "# upper and lower case is same\n",
        "# print \"programming\" if not same\n",
        "#example: PyThOn--3 P T O(uppwecase)--same count\n",
        "#               --3 y h n(lower case)\n",
        "# python --P H(2)\n",
        "#        --y t o n(4) - programming\n",
        "\n",
        "def findcount(str):\n",
        "    cntUpper=0\n",
        "    cntLower=0\n",
        "    for x in range(len(str)):\n",
        "        if ord(str[x])>=65 and ord(str[x])<=90:\n",
        "            cntUpper=cntUpper+1\n",
        "        elif ord(str[x])>=97 and ord(str[x])<=120:\n",
        "            cntLower=cntLower+1\n",
        "    if cntUpper==cntLower:\n",
        "        return \"SameCount\"\n",
        "    else:\n",
        "        return \"Programming\"\n",
        "    return\n",
        "findcount('PyThOn')\n",
        "findcount('PYTHon')"
      ],
      "execution_count": 0,
      "outputs": [
        {
          "output_type": "execute_result",
          "data": {
            "text/plain": [
              "'Programming'"
            ]
          },
          "metadata": {
            "tags": []
          },
          "execution_count": 11
        }
      ]
    },
    {
      "cell_type": "code",
      "metadata": {
        "id": "pHlXnABqQO8v",
        "colab_type": "code",
        "outputId": "f39fdb22-ad7e-49a1-cd76-8b4416f0e299",
        "colab": {
          "base_uri": "https://localhost:8080/",
          "height": 34
        }
      },
      "source": [
        "#function to return the count of palindrome number\n",
        "# input:1 10\n",
        "# output:9(1,2,3,4,5,6,7,8,9)\n",
        "\n",
        "# input: 11 100\n",
        "# output :(9(11,22,33,....,99))\n",
        "#Count of palindromenumbers between twogiven numbers\n",
        "def isPalindrome(n):\n",
        "    rev=0\n",
        "    buffer=n\n",
        "    while n!=0:\n",
        "        r=n%10\n",
        "        rev=rev*10+r\n",
        "        n=n//10\n",
        "    if rev==buffer:\n",
        "        return True\n",
        "    else:\n",
        "        return False\n",
        "\n",
        "def countPalindrome(lb,ub):\n",
        "    count=0\n",
        "    while lb!=ub:\n",
        "        #Implement\n",
        "        if isPalindrome(lb)==True:\n",
        "            count=count+1\n",
        "        lb=lb+1\n",
        "    return count \n",
        "countPalindrome(1,10)\n",
        "\n",
        "\n",
        "\n",
        "\n"
      ],
      "execution_count": 0,
      "outputs": [
        {
          "output_type": "execute_result",
          "data": {
            "text/plain": [
              "9"
            ]
          },
          "metadata": {
            "tags": []
          },
          "execution_count": 1
        }
      ]
    },
    {
      "cell_type": "code",
      "metadata": {
        "id": "dFUVS_qDQV0k",
        "colab_type": "code",
        "outputId": "05b1af41-bf58-43be-c579-5e5c0302edbc",
        "colab": {
          "base_uri": "https://localhost:8080/",
          "height": 50
        }
      },
      "source": [
        "\n",
        "def factorslist(n):\n",
        "    sum=0\n",
        "    for i in range(1,n//2+1):\n",
        "        if n%i==0:\n",
        "            sum=sum+i\n",
        "    return sum\n",
        "def isperfect(n):\n",
        "    if factorslist(n)==n:\n",
        "        return True\n",
        "    return False \n",
        "def generateperfect(lb,ub):\n",
        "    for x in range (lb,ub+1):\n",
        "        if isperfect(x):\n",
        "            print(x,end=\" \")\n",
        "    print()\n",
        "    return\n",
        "generateperfect(1,10)\n",
        "generateperfect(1,10000)"
      ],
      "execution_count": 0,
      "outputs": [
        {
          "output_type": "stream",
          "text": [
            "6 \n",
            "6 28 496 8128 \n"
          ],
          "name": "stdout"
        }
      ]
    },
    {
      "cell_type": "code",
      "metadata": {
        "id": "E5SXh13nRbn1",
        "colab_type": "code",
        "outputId": "4ce178c1-9043-42f0-c82f-55c9cafed23c",
        "colab": {
          "base_uri": "https://localhost:8080/",
          "height": 34
        }
      },
      "source": [
        "# ASCIT:-\n",
        "# A-Z:65-90\n",
        "# a-z:48-57\n",
        "# 0-9:48-57\n",
        "# space:32\n",
        "def printupper(x):\n",
        "    for i in range(len(x)):\n",
        "        if ord(x[i])>=65 and ord(x[i])<=90:\n",
        "            print(x[i],end=\" \")\n",
        "    return\n",
        "printupper(\"PyThon\")"
      ],
      "execution_count": 0,
      "outputs": [
        {
          "output_type": "stream",
          "text": [
            "P T "
          ],
          "name": "stdout"
        }
      ]
    },
    {
      "cell_type": "code",
      "metadata": {
        "id": "aBplKlvKRkAA",
        "colab_type": "code",
        "outputId": "ec46b1bc-ae82-446f-8f99-f9242c4004a4",
        "colab": {
          "base_uri": "https://localhost:8080/",
          "height": 34
        }
      },
      "source": [
        "#EXTRACT DIGITS FROM given string\n",
        "#ex-\n",
        "#input:applicat8ion89\n",
        "#op:1889\n",
        "def extradigits(str):\n",
        "  for x in range(len(str)):\n",
        "    if ord(str[x])>=48and ord(str[x])<=57:\n",
        "      print(str[x],end=\"\")\n",
        "  return\n",
        "extradigits(\"Applicat8ion89\")#1 8 8 9\n",
        "\n"
      ],
      "execution_count": 0,
      "outputs": [
        {
          "output_type": "stream",
          "text": [
            "889"
          ],
          "name": "stdout"
        }
      ]
    },
    {
      "cell_type": "code",
      "metadata": {
        "id": "gVzHtX5bXMhn",
        "colab_type": "code",
        "outputId": "7e89a268-b2b9-49a7-886a-481dbc1fda16",
        "colab": {
          "base_uri": "https://localhost:8080/",
          "height": 34
        }
      },
      "source": [
        "#FUNCTION TO RETURN THE SUM OF DIGIT IN GIVEN STRING\n",
        "#INPUT:APPLICTAT8ION89\n",
        "#OP:26(1+8+8+9)\n",
        "def sumofdigits(str):\n",
        "  sum=0\n",
        "  for x in range(len(str)):\n",
        "    if ord(str[x])>=48 and ord(str[x])<=57:\n",
        "      sum=sum+(ord(str[x])-48)\n",
        "  return sum\n",
        "sumofdigits('appli1cat8ion89')"
      ],
      "execution_count": 0,
      "outputs": [
        {
          "output_type": "execute_result",
          "data": {
            "text/plain": [
              "26"
            ]
          },
          "metadata": {
            "tags": []
          },
          "execution_count": 8
        }
      ]
    },
    {
      "cell_type": "code",
      "metadata": {
        "id": "ieAV8cbRaQJW",
        "colab_type": "code",
        "outputId": "5c964c79-d63f-4176-d745-5b8895233b67",
        "colab": {
          "base_uri": "https://localhost:8080/",
          "height": 34
        }
      },
      "source": [
        "#FUNCTION TO RETURN THE SUM OF DIGIT IN GIVEN STRING\n",
        "#INPUT:APPLICTAT8ION89\n",
        "#OP:16(8+8)\n",
        "def sumofevendigits(str):\n",
        "  sum=0\n",
        "  for x in range(len(str)):\n",
        "    if ord(str[x])>=48 and ord(str[x])<=57:\n",
        "      if(ord(str[x])-48)%2==0:\n",
        "        sum=sum+(ord(str[x])-48)\n",
        "  return sum\n",
        "sumofevendigits('appli1cat8ion89')"
      ],
      "execution_count": 0,
      "outputs": [
        {
          "output_type": "execute_result",
          "data": {
            "text/plain": [
              "16"
            ]
          },
          "metadata": {
            "tags": []
          },
          "execution_count": 13
        }
      ]
    },
    {
      "cell_type": "code",
      "metadata": {
        "id": "0bv10A6WbyB8",
        "colab_type": "code",
        "outputId": "020daf35-7a53-4960-b56d-9e1c9624831c",
        "colab": {
          "base_uri": "https://localhost:8080/",
          "height": 313
        }
      },
      "source": [
        "#function to print the specific word in upper case\n",
        "#IP:python made esay\n",
        "#OP:made\n",
        "#IP:LEARN PYTHON PROGRAMMING\n",
        "#OP:PYTHON\n",
        "def worduppercase(s):\n",
        "    sapcecnt=0\n",
        "    for x in range(len(s)):\n",
        "      if ord(s[x])==32:\n",
        "           spacecnt += 1#spacecnt=spacecnt+1\n",
        "      if spacecnt== 1:\n",
        "        if ord(s[x])>=65 and ord(s[x])<=90:\n",
        "               print(s[x],end=\"\")\n",
        "        elif ord(s[x])>=97 and ord(s[x])<=122:\n",
        "                 print(chr(ord(s[x])-32,end=\"\"))\n",
        "      if spacecnt== 2:\n",
        "        break\n",
        "    return\n",
        "  \n",
        "worduppercase('Python Made Esay')#made"
      ],
      "execution_count": 0,
      "outputs": [
        {
          "output_type": "error",
          "ename": "UnboundLocalError",
          "evalue": "ignored",
          "traceback": [
            "\u001b[0;31m---------------------------------------------------------------------------\u001b[0m",
            "\u001b[0;31mUnboundLocalError\u001b[0m                         Traceback (most recent call last)",
            "\u001b[0;32m<ipython-input-43-b8ad6700063a>\u001b[0m in \u001b[0;36m<module>\u001b[0;34m()\u001b[0m\n\u001b[1;32m     13\u001b[0m     \u001b[0;32mreturn\u001b[0m\u001b[0;34m\u001b[0m\u001b[0;34m\u001b[0m\u001b[0m\n\u001b[1;32m     14\u001b[0m \u001b[0;34m\u001b[0m\u001b[0m\n\u001b[0;32m---> 15\u001b[0;31m \u001b[0mworduppercase\u001b[0m\u001b[0;34m(\u001b[0m\u001b[0;34m'Python Made Esay'\u001b[0m\u001b[0;34m)\u001b[0m\u001b[0;31m#made\u001b[0m\u001b[0;34m\u001b[0m\u001b[0;34m\u001b[0m\u001b[0m\n\u001b[0m",
            "\u001b[0;32m<ipython-input-43-b8ad6700063a>\u001b[0m in \u001b[0;36mworduppercase\u001b[0;34m(s)\u001b[0m\n\u001b[1;32m      4\u001b[0m       \u001b[0;32mif\u001b[0m \u001b[0mord\u001b[0m\u001b[0;34m(\u001b[0m\u001b[0ms\u001b[0m\u001b[0;34m[\u001b[0m\u001b[0mx\u001b[0m\u001b[0;34m]\u001b[0m\u001b[0;34m)\u001b[0m\u001b[0;34m==\u001b[0m\u001b[0;36m32\u001b[0m\u001b[0;34m:\u001b[0m\u001b[0;34m\u001b[0m\u001b[0;34m\u001b[0m\u001b[0m\n\u001b[1;32m      5\u001b[0m            \u001b[0mspacecnt\u001b[0m \u001b[0;34m+=\u001b[0m \u001b[0;36m1\u001b[0m\u001b[0;31m#spacecnt=spacecnt+1\u001b[0m\u001b[0;34m\u001b[0m\u001b[0;34m\u001b[0m\u001b[0m\n\u001b[0;32m----> 6\u001b[0;31m       \u001b[0;32mif\u001b[0m \u001b[0mspacecnt\u001b[0m\u001b[0;34m==\u001b[0m \u001b[0;36m1\u001b[0m\u001b[0;34m:\u001b[0m\u001b[0;34m\u001b[0m\u001b[0;34m\u001b[0m\u001b[0m\n\u001b[0m\u001b[1;32m      7\u001b[0m         \u001b[0;32mif\u001b[0m \u001b[0mord\u001b[0m\u001b[0;34m(\u001b[0m\u001b[0ms\u001b[0m\u001b[0;34m[\u001b[0m\u001b[0mx\u001b[0m\u001b[0;34m]\u001b[0m\u001b[0;34m)\u001b[0m\u001b[0;34m>=\u001b[0m\u001b[0;36m65\u001b[0m \u001b[0;32mand\u001b[0m \u001b[0mord\u001b[0m\u001b[0;34m(\u001b[0m\u001b[0ms\u001b[0m\u001b[0;34m[\u001b[0m\u001b[0mx\u001b[0m\u001b[0;34m]\u001b[0m\u001b[0;34m)\u001b[0m\u001b[0;34m<=\u001b[0m\u001b[0;36m90\u001b[0m\u001b[0;34m:\u001b[0m\u001b[0;34m\u001b[0m\u001b[0;34m\u001b[0m\u001b[0m\n\u001b[1;32m      8\u001b[0m                \u001b[0mprint\u001b[0m\u001b[0;34m(\u001b[0m\u001b[0ms\u001b[0m\u001b[0;34m[\u001b[0m\u001b[0mx\u001b[0m\u001b[0;34m]\u001b[0m\u001b[0;34m,\u001b[0m\u001b[0mend\u001b[0m\u001b[0;34m=\u001b[0m\u001b[0;34m\"\"\u001b[0m\u001b[0;34m)\u001b[0m\u001b[0;34m\u001b[0m\u001b[0;34m\u001b[0m\u001b[0m\n",
            "\u001b[0;31mUnboundLocalError\u001b[0m: local variable 'spacecnt' referenced before assignment"
          ]
        }
      ]
    },
    {
      "cell_type": "code",
      "metadata": {
        "id": "zPwm9vlZg_nC",
        "colab_type": "code",
        "colab": {}
      },
      "source": [
        ""
      ],
      "execution_count": 0,
      "outputs": []
    }
  ]
}