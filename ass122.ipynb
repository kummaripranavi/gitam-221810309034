{
  "nbformat": 4,
  "nbformat_minor": 0,
  "metadata": {
    "colab": {
      "name": "ass122",
      "version": "0.3.2",
      "provenance": [],
      "collapsed_sections": [],
      "include_colab_link": true
    },
    "kernelspec": {
      "name": "python3",
      "display_name": "Python 3"
    }
  },
  "cells": [
    {
      "cell_type": "markdown",
      "metadata": {
        "id": "view-in-github",
        "colab_type": "text"
      },
      "source": [
        "<a href=\"https://colab.research.google.com/github/kummaripranavi/gitam-221810309034/blob/master/ass122.ipynb\" target=\"_parent\"><img src=\"https://colab.research.google.com/assets/colab-badge.svg\" alt=\"Open In Colab\"/></a>"
      ]
    },
    {
      "cell_type": "code",
      "metadata": {
        "id": "yXWwj7RqqcUk",
        "colab_type": "code",
        "colab": {}
      },
      "source": [
        ""
      ],
      "execution_count": 0,
      "outputs": []
    },
    {
      "cell_type": "markdown",
      "metadata": {
        "id": "nLNPZyqFqgkh",
        "colab_type": "text"
      },
      "source": [
        ""
      ]
    },
    {
      "cell_type": "markdown",
      "metadata": {
        "id": "V0ORfpkjqSUP",
        "colab_type": "text"
      },
      "source": [
        "# Write a python programming to print the Palindrome count between two limits"
      ]
    },
    {
      "cell_type": "code",
      "metadata": {
        "id": "P5eSFLjoqjsW",
        "colab_type": "code",
        "colab": {
          "base_uri": "https://localhost:8080/",
          "height": 34
        },
        "outputId": "7d16e1a3-9219-4ba3-f9c5-ddd08eddd0c5"
      },
      "source": [
        "def isPalindrome(n):\n",
        "    rev = 0\n",
        "    buffer = n\n",
        "    while n!= 0:\n",
        "        r = n % 10\n",
        "        rev = rev * 10 + r\n",
        "        n = n // 10\n",
        "    if rev == buffer:\n",
        "        return True\n",
        "    else:\n",
        "        return False\n",
        "    return\n",
        "\n",
        "def countPalindrome(lb,ub):\n",
        "    cnt = 0\n",
        "    while lb != ub:\n",
        "        # Implement\n",
        "        if isPalindrome(lb) == True:\n",
        "            cnt = cnt + 1\n",
        "        lb = lb + 1\n",
        "    return cnt\n",
        "countPalindrome(1,10)"
      ],
      "execution_count": 1,
      "outputs": [
        {
          "output_type": "execute_result",
          "data": {
            "text/plain": [
              "9"
            ]
          },
          "metadata": {
            "tags": []
          },
          "execution_count": 1
        }
      ]
    },
    {
      "cell_type": "code",
      "metadata": {
        "id": "Zvbt0GZzqkfR",
        "colab_type": "code",
        "colab": {}
      },
      "source": [
        "https://github.com/kummaripranavi/gitam-221810309034/blob/master/ASSIGN2.rap"
      ],
      "execution_count": 0,
      "outputs": []
    }
  ]
}