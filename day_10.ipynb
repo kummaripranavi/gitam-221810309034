{
  "nbformat": 4,
  "nbformat_minor": 0,
  "metadata": {
    "colab": {
      "name": "day 10",
      "version": "0.3.2",
      "provenance": [],
      "collapsed_sections": [],
      "include_colab_link": true
    },
    "kernelspec": {
      "name": "python3",
      "display_name": "Python 3"
    }
  },
  "cells": [
    {
      "cell_type": "markdown",
      "metadata": {
        "id": "view-in-github",
        "colab_type": "text"
      },
      "source": [
        "<a href=\"https://colab.research.google.com/github/kummaripranavi/gitam-221810309034/blob/master/day_10.ipynb\" target=\"_parent\"><img src=\"https://colab.research.google.com/assets/colab-badge.svg\" alt=\"Open In Colab\"/></a>"
      ]
    },
    {
      "cell_type": "markdown",
      "metadata": {
        "id": "OWCX4zSMJQnK",
        "colab_type": "text"
      },
      "source": [
        "###STANDARD LIBRARIES\n",
        "\n",
        "\n",
        "*   -FILE  I/O\n",
        "*   REGULAR EXPRESSION\n",
        "\n",
        "*   DATETIME\n",
        "*   MATH(NUMBERICAL AND MATHEMATICAL)\n",
        "\n",
        "\n",
        "\n",
        "\n"
      ]
    },
    {
      "cell_type": "markdown",
      "metadata": {
        "id": "BfCdkOEJKfZj",
        "colab_type": "text"
      },
      "source": [
        "#FILE HANDLING IN PYTHON\n",
        "\n",
        "*   FILE-DOCUMENT CONTAINING INFORMATON RESIDES ON THE PERMANENT STORAGE\n",
        "*   DIFFERENT TYPES OF FILES :TXT,DOC,PDF,CVS,AND ECT,,,\n",
        "\n",
        "*   IP---KEYBORD\n",
        "*   OP--FILE\n",
        "##             **modes of the file i/o**\n",
        "'w'--this mode is used to file wriring\n",
        "--if the file is not present first it creates the file and write me data to it\n",
        "--if the file is already present then it will rewrite the previous content\n",
        "\n",
        "\n",
        "\n",
        "\n",
        "\n",
        "\n"
      ]
    },
    {
      "cell_type": "code",
      "metadata": {
        "id": "NHyFULctLSjM",
        "colab_type": "code",
        "outputId": "a13640bf-6b27-4eda-d206-fb3b16939deb",
        "colab": {
          "base_uri": "https://localhost:8080/",
          "height": 35
        }
      },
      "source": [
        "#FUNCTION TO CREATE A FILE AND WRITE TO THE FILE\n",
        "def createfile(filename):\n",
        "    f=open(filename,'w')\n",
        "    for i in range(10):\n",
        "        f.write('this is %d line'%i)\n",
        "    print(\"file is createed and data has written \")\n",
        "    return\n",
        "createfile('file1.txt')"
      ],
      "execution_count": 0,
      "outputs": [
        {
          "output_type": "stream",
          "text": [
            "file is createed and data has written \n"
          ],
          "name": "stdout"
        }
      ]
    },
    {
      "cell_type": "code",
      "metadata": {
        "id": "hHJdV0JBLTUx",
        "colab_type": "code",
        "outputId": "160a1ab5-1620-4559-e4bc-8940cb27f31e",
        "colab": {
          "base_uri": "https://localhost:8080/",
          "height": 35
        }
      },
      "source": [
        "ls\n"
      ],
      "execution_count": 0,
      "outputs": [
        {
          "output_type": "stream",
          "text": [
            "file1.txt  \u001b[0m\u001b[01;34msample_data\u001b[0m/\n"
          ],
          "name": "stdout"
        }
      ]
    },
    {
      "cell_type": "code",
      "metadata": {
        "id": "Irs7MRSwPo2Z",
        "colab_type": "code",
        "colab": {}
      },
      "source": [
        "cat file1.txt"
      ],
      "execution_count": 0,
      "outputs": []
    },
    {
      "cell_type": "code",
      "metadata": {
        "id": "xJZYIqKjMw2g",
        "colab_type": "code",
        "outputId": "987709f6-2c55-4593-c8c8-b6737c5dc5ec",
        "colab": {
          "base_uri": "https://localhost:8080/",
          "height": 69
        }
      },
      "source": [
        "#FUNCTION TO CREATE A FILE AND WRITE TO THE FILE\n",
        "def createfile(filename):\n",
        "    f=open(filename,'w')\n",
        "    print('testing...\\n%i')\n",
        "    print(\"file is createed and data has written \")\n",
        "    return\n",
        "createfile('file1.txt')"
      ],
      "execution_count": 0,
      "outputs": [
        {
          "output_type": "stream",
          "text": [
            "testing...\n",
            "%i\n",
            "file is createed and data has written \n"
          ],
          "name": "stdout"
        }
      ]
    },
    {
      "cell_type": "code",
      "metadata": {
        "id": "K7sDwZB6PEQ2",
        "colab_type": "code",
        "outputId": "14db0531-b185-4828-9155-26474f1aa4a2",
        "colab": {
          "base_uri": "https://localhost:8080/",
          "height": 35
        }
      },
      "source": [
        "ls\n"
      ],
      "execution_count": 0,
      "outputs": [
        {
          "output_type": "stream",
          "text": [
            "file1.txt  \u001b[0m\u001b[01;34msample_data\u001b[0m/\n"
          ],
          "name": "stdout"
        }
      ]
    },
    {
      "cell_type": "code",
      "metadata": {
        "id": "BGg-GPgxP0SU",
        "colab_type": "code",
        "colab": {}
      },
      "source": [
        "cat file1.txt"
      ],
      "execution_count": 0,
      "outputs": []
    },
    {
      "cell_type": "code",
      "metadata": {
        "id": "53LQeoucP4Fv",
        "colab_type": "code",
        "outputId": "2a4dfcb6-008d-44d8-c5d5-965cea7699b8",
        "colab": {
          "base_uri": "https://localhost:8080/",
          "height": 35
        }
      },
      "source": [
        "def appenddata(filename):\n",
        "  \n",
        "  f=open(filename,'a')\n",
        "  f.write(\"new line1 \\n\")\n",
        "  f.write(\"new line2 \\n\")\n",
        "  print(\"file created and successfully data written\")\n",
        "  return\n",
        "appenddata('file2.txt')"
      ],
      "execution_count": 0,
      "outputs": [
        {
          "output_type": "stream",
          "text": [
            "file created and successfully data written\n"
          ],
          "name": "stdout"
        }
      ]
    },
    {
      "cell_type": "code",
      "metadata": {
        "id": "brn7uOo6TbGE",
        "colab_type": "code",
        "outputId": "acea43ea-f092-47c7-e23c-092c697e61d0",
        "colab": {
          "base_uri": "https://localhost:8080/",
          "height": 35
        }
      },
      "source": [
        "def appenddata(filename):\n",
        "  \n",
        "  f=open(filename,'a')\n",
        "  f.write(\"new line1 \\n\")\n",
        "  f.write(\"new line2 \\n\")\n",
        "  print(\"file created and successfully data written\")\n",
        "  return\n",
        "appenddata('file2.txt') "
      ],
      "execution_count": 0,
      "outputs": [
        {
          "output_type": "stream",
          "text": [
            "file created and successfully data written\n"
          ],
          "name": "stdout"
        }
      ]
    },
    {
      "cell_type": "code",
      "metadata": {
        "id": "bmD7GQxJU4mE",
        "colab_type": "code",
        "outputId": "5e13989d-d197-4634-bc93-59bc4d993a43",
        "colab": {
          "base_uri": "https://localhost:8080/",
          "height": 104
        }
      },
      "source": [
        "#function to read of the file\n",
        "def readfiledata(filename):\n",
        "    f=open(filename,'r')\n",
        "    if f.mode=='r':\n",
        "      x=f.read()\n",
        "      print(x)\n",
        "    f.close()\n",
        "    return\n",
        "readfiledata('file2.txt')"
      ],
      "execution_count": 0,
      "outputs": [
        {
          "output_type": "stream",
          "text": [
            "new line1 \n",
            "new line2 \n",
            "new line1 \n",
            "new line2 \n",
            "\n"
          ],
          "name": "stdout"
        }
      ]
    },
    {
      "cell_type": "code",
      "metadata": {
        "id": "CcYIg8A0VlxX",
        "colab_type": "code",
        "outputId": "44c2a877-85ec-4719-e0df-af36e779ac7e",
        "colab": {
          "base_uri": "https://localhost:8080/",
          "height": 69
        }
      },
      "source": [
        "#function to read the file\n",
        "def fileoperations(filename,mode):\n",
        "    with open(filename,mode) as f:\n",
        "        if f.mode=='r':\n",
        "            data=f.read()\n",
        "            print(data)\n",
        "        elif f.mode=='a':\n",
        "            f.write('data to the file')\n",
        "            print('the data successfully written')\n",
        "    f.close()\n",
        "    return\n",
        "filename=input('enter the file name')\n",
        "mode=input('enter the mode of file')\n",
        "fileoperations(filename,mode)"
      ],
      "execution_count": 0,
      "outputs": [
        {
          "output_type": "stream",
          "text": [
            "enter the file namefile1\n",
            "enter the mode of filea\n",
            "the data successfully written\n"
          ],
          "name": "stdout"
        }
      ]
    },
    {
      "cell_type": "code",
      "metadata": {
        "id": "U38A_AnCYXEy",
        "colab_type": "code",
        "outputId": "59930db0-ee20-4a1d-b6b4-fbc67aba1de9",
        "colab": {
          "base_uri": "https://localhost:8080/",
          "height": 52
        }
      },
      "source": [
        "#data analysis\n",
        "#word count program\n",
        "def wordcount(filename,word):\n",
        "    with open(filename,'r') as f:\n",
        "        if f.mode=='r':\n",
        "            x=f.read()\n",
        "            li=x.split()\n",
        "    cnt=li.count(word)     \n",
        "    return \n",
        "filename=input('enter the file:')\n",
        "word=input('enter the word:')\n",
        "wordcount(filename,word)"
      ],
      "execution_count": 0,
      "outputs": [
        {
          "output_type": "stream",
          "text": [
            "enter the file:file2.txt\n",
            "enter the word:and\n"
          ],
          "name": "stdout"
        }
      ]
    },
    {
      "cell_type": "code",
      "metadata": {
        "id": "CHgPiItEaguC",
        "colab_type": "code",
        "outputId": "e540ef09-c8bc-44df-c9e5-a7f2ef159ace",
        "colab": {
          "base_uri": "https://localhost:8080/",
          "height": 52
        }
      },
      "source": [
        "#character count from the given file\n",
        "def charactercount(filename,character):\n",
        "    with open(filename,'r') as f:\n",
        "        if f.mode=='r':\n",
        "            x=f.read()\n",
        "            li=x.split()\n",
        "    cnt=li.count(word)     \n",
        "    return \n",
        "filename=input('enter the file:')\n",
        "character=input('enter the character:')\n",
        "charactercount(filename,character)\n",
        "        \n"
      ],
      "execution_count": 0,
      "outputs": [
        {
          "output_type": "stream",
          "text": [
            "enter the file:file1.txt\n",
            "enter the character:g\n"
          ],
          "name": "stdout"
        }
      ]
    },
    {
      "cell_type": "code",
      "metadata": {
        "id": "OvEymPG5f96T",
        "colab_type": "code",
        "outputId": "6d5dda5d-27e5-4121-a9e0-bf2243639202",
        "colab": {
          "base_uri": "https://localhost:8080/",
          "height": 52
        }
      },
      "source": [
        "#character count from given life\n",
        "def charcount(filename):\n",
        "  with open(filename,'r')as f:\n",
        "    if f.mode=='r':\n",
        "      x=f.read()\n",
        "      li=list(x)\n",
        "  return len(li)\n",
        "filename=input('enter filename:')\n",
        "charcount(filename)"
      ],
      "execution_count": 0,
      "outputs": [
        {
          "output_type": "stream",
          "text": [
            "enter filename:file2.txt\n"
          ],
          "name": "stdout"
        },
        {
          "output_type": "execute_result",
          "data": {
            "text/plain": [
              "44"
            ]
          },
          "metadata": {
            "tags": []
          },
          "execution_count": 30
        }
      ]
    },
    {
      "cell_type": "code",
      "metadata": {
        "id": "wTAr9sVPqFeE",
        "colab_type": "code",
        "outputId": "e79c8c62-0633-4ae8-ac45-30912a8d54de",
        "colab": {
          "base_uri": "https://localhost:8080/",
          "height": 52
        }
      },
      "source": [
        "#function to find no of lines\n",
        "#ip--filename(file2.txt)\n",
        "#op--no of lines(12)\n",
        "def countlines(filename):\n",
        "  with open(filename,'r') as f:\n",
        "    if f.mode=='r':\n",
        "      x=f.read()\n",
        "      li=x.split(\"\\n\")\n",
        "  return len(li)\n",
        "filename=input('enter the filename:')\n",
        "countlines(filename)\n",
        "               "
      ],
      "execution_count": 0,
      "outputs": [
        {
          "output_type": "stream",
          "text": [
            "enter the filename:file2.txt\n"
          ],
          "name": "stdout"
        },
        {
          "output_type": "execute_result",
          "data": {
            "text/plain": [
              "5"
            ]
          },
          "metadata": {
            "tags": []
          },
          "execution_count": 31
        }
      ]
    },
    {
      "cell_type": "code",
      "metadata": {
        "id": "KH-7XpTYuSBe",
        "colab_type": "code",
        "outputId": "f7600e31-c36d-4f6b-9c7c-a6f827b83ece",
        "colab": {
          "base_uri": "https://localhost:8080/",
          "height": 235
        }
      },
      "source": [
        "import os\n",
        "dirpath=\"git/\"\n",
        "for i in os.listdir(dirpath):\n",
        "  if os.path.isfile(os.path.join(dirpath,i)):\n",
        "      print(i)"
      ],
      "execution_count": 0,
      "outputs": [
        {
          "output_type": "error",
          "ename": "FileNotFoundError",
          "evalue": "ignored",
          "traceback": [
            "\u001b[0;31m---------------------------------------------------------------------------\u001b[0m",
            "\u001b[0;31mFileNotFoundError\u001b[0m                         Traceback (most recent call last)",
            "\u001b[0;32m<ipython-input-2-effd8b85e0af>\u001b[0m in \u001b[0;36m<module>\u001b[0;34m()\u001b[0m\n\u001b[1;32m      1\u001b[0m \u001b[0;32mimport\u001b[0m \u001b[0mos\u001b[0m\u001b[0;34m\u001b[0m\u001b[0;34m\u001b[0m\u001b[0m\n\u001b[1;32m      2\u001b[0m \u001b[0mdirpath\u001b[0m\u001b[0;34m=\u001b[0m\u001b[0;34m\"git/\"\u001b[0m\u001b[0;34m\u001b[0m\u001b[0;34m\u001b[0m\u001b[0m\n\u001b[0;32m----> 3\u001b[0;31m \u001b[0;32mfor\u001b[0m \u001b[0mi\u001b[0m \u001b[0;32min\u001b[0m \u001b[0mos\u001b[0m\u001b[0;34m.\u001b[0m\u001b[0mlistdir\u001b[0m\u001b[0;34m(\u001b[0m\u001b[0mdirpath\u001b[0m\u001b[0;34m)\u001b[0m\u001b[0;34m:\u001b[0m\u001b[0;34m\u001b[0m\u001b[0;34m\u001b[0m\u001b[0m\n\u001b[0m\u001b[1;32m      4\u001b[0m   \u001b[0;32mif\u001b[0m \u001b[0mos\u001b[0m\u001b[0;34m.\u001b[0m\u001b[0mpath\u001b[0m\u001b[0;34m.\u001b[0m\u001b[0misfile\u001b[0m\u001b[0;34m(\u001b[0m\u001b[0mos\u001b[0m\u001b[0;34m.\u001b[0m\u001b[0mpath\u001b[0m\u001b[0;34m.\u001b[0m\u001b[0mjoin\u001b[0m\u001b[0;34m(\u001b[0m\u001b[0mdirpath\u001b[0m\u001b[0;34m,\u001b[0m\u001b[0mi\u001b[0m\u001b[0;34m)\u001b[0m\u001b[0;34m)\u001b[0m\u001b[0;34m:\u001b[0m\u001b[0;34m\u001b[0m\u001b[0;34m\u001b[0m\u001b[0m\n\u001b[1;32m      5\u001b[0m       \u001b[0mprint\u001b[0m\u001b[0;34m(\u001b[0m\u001b[0mi\u001b[0m\u001b[0;34m)\u001b[0m\u001b[0;34m\u001b[0m\u001b[0;34m\u001b[0m\u001b[0m\n",
            "\u001b[0;31mFileNotFoundError\u001b[0m: [Errno 2] No such file or directory: 'git/'"
          ]
        }
      ]
    },
    {
      "cell_type": "code",
      "metadata": {
        "id": "oUdiwSTYMarB",
        "colab_type": "code",
        "colab": {}
      },
      "source": [
        "7  "
      ],
      "execution_count": 0,
      "outputs": []
    },
    {
      "cell_type": "markdown",
      "metadata": {
        "id": "32jnZ4zzRv6s",
        "colab_type": "text"
      },
      "source": [
        "**listing subdirectiories**\n"
      ]
    },
    {
      "cell_type": "code",
      "metadata": {
        "id": "Fbd2FZXuR8n4",
        "colab_type": "code",
        "colab": {}
      },
      "source": [
        "import os\n",
        "as,makedirs(2015)\n"
      ],
      "execution_count": 0,
      "outputs": []
    },
    {
      "cell_type": "markdown",
      "metadata": {
        "id": "ZMo4-MKZYfQW",
        "colab_type": "text"
      },
      "source": [
        "# filestirms"
      ]
    },
    {
      "cell_type": "code",
      "metadata": {
        "id": "vyDf1gsnUJo8",
        "colab_type": "code",
        "colab": {}
      },
      "source": [
        "inport"
      ],
      "execution_count": 0,
      "outputs": []
    }
  ]
}